{
 "cells": [
  {
   "cell_type": "code",
   "execution_count": 1,
   "metadata": {},
   "outputs": [],
   "source": [
    "# Import libraries\n",
    "\n",
    "import numpy as np\n",
    "%matplotlib inline\n",
    "import matplotlib\n",
    "import matplotlib.pyplot as plt\n",
    "from sklearn.datasets import fetch_mldata\n",
    "from sklearn.metrics import classification_report, confusion_matrix\n",
    "\n",
    "# Read and transform data\n",
    "mnist = fetch_mldata('MNIST original')\n",
    "inputData, y = mnist[\"data\"], mnist[\"target\"]\n",
    "\n",
    "inputData = inputData / 255\n",
    "nDigits = 10\n",
    "\n",
    "yOneHot = np.zeros([y.shape[0],nDigits])\n",
    "for i in range(y.shape[0]):\n",
    "    yOneHot[i,y[i].astype(int)]=1\n",
    "\n",
    "y = yOneHot\n",
    "\n",
    "m = 60000\n",
    "m_test = inputData.shape[0] - m\n",
    "\n",
    "y_train, y_test = y[:m,:].reshape(m,nDigits), y[m:,:].reshape(m_test,nDigits)\n",
    "InputData_train, InputData_test = inputData[:m,:], inputData[m:,:]\n",
    "\n",
    "\n",
    "np.random.seed(1002)"
   ]
  },
  {
   "cell_type": "code",
   "execution_count": 2,
   "metadata": {},
   "outputs": [
    {
     "data": {
      "image/png": "[encoded data removed]",
      "text/plain": [
       "<matplotlib.figure.Figure at 0x1bcea671080>"
      ]
     },
     "metadata": {},
     "output_type": "display_data"
    },
    {
     "name": "stdout",
     "output_type": "stream",
     "text": [
      "[0. 1. 0. 0. 0. 0. 0. 0. 0. 0.]\n"
     ]
    }
   ],
   "source": [
    "# Show a random input\n",
    "\n",
    "i = 7000\n",
    "plt.imshow(InputData_train[i,:].reshape(28,28), cmap = matplotlib.cm.binary)\n",
    "plt.axis(\"off\")\n",
    "plt.show()\n",
    "print(y_train[i,:])"
   ]
  },
  {
   "cell_type": "code",
   "execution_count": 3,
   "metadata": {},
   "outputs": [],
   "source": [
    "# Define activation, loss, and their derivatives\n",
    "\n",
    "def sigmoid(x):\n",
    "    return 1 / (1 + np.exp(-x))\n",
    "\n",
    "def sigmoid_derivative(z):\n",
    "    return z * (1-z)\n",
    "\n",
    "def relu (x):\n",
    "    return np.maximum(0,x) # ReLU is very simple\n",
    "\n",
    "def relu_derivative(x):\n",
    "    return 0.5 * (np.sign(x)+1) # ReLU derivative is either zero or 1.\n",
    "\n",
    "def CrossEntropyLoss(y, y_hat):\n",
    "    L_sum = np.sum(np.multiply(y, np.log(y_hat)))\n",
    "    m = y.shape[1]\n",
    "    L = -(1/m) * L_sum\n",
    "\n",
    "    return L\n",
    "\n",
    "def softmax(y):\n",
    "    return np.exp(y) / np.sum(np.exp(y), axis=0)\n",
    "\n",
    "def CE_Softmax_Derivative(output, ideal_output):\n",
    "    return output - ideal_output"
   ]
  },
  {
   "cell_type": "code",
   "execution_count": 4,
   "metadata": {},
   "outputs": [],
   "source": [
    "inputDim = InputData_train.shape[1]\n",
    "nHidden = 64\n",
    "learning_rate = 1\n",
    "weight_decay = 0.001\n",
    "\n",
    "W1 = 0.01*np.random.randn(nHidden, inputDim)\n",
    "b1 = np.zeros((nHidden, 1))\n",
    "W2 = 0.01*np.random.randn(nDigits, nHidden)\n",
    "b2 = np.zeros((nDigits, 1))\n",
    "\n",
    "inputData = InputData_train\n",
    "y = y_train"
   ]
  },
  {
   "cell_type": "code",
   "execution_count": 5,
   "metadata": {},
   "outputs": [
    {
     "name": "stdout",
     "output_type": "stream",
     "text": [
      "Epoch 0 cost:  2.302592668306746\n",
      "Epoch 10 cost:  1.4091096148519344\n",
      "Epoch 20 cost:  1.5579844613684706\n",
      "Epoch 30 cost:  1.395071119738517\n",
      "Epoch 40 cost:  1.1065635639513847\n",
      "Epoch 50 cost:  0.6427288131296715\n",
      "Epoch 60 cost:  0.5583252961708036\n",
      "Epoch 70 cost:  0.5612934702627731\n",
      "Epoch 80 cost:  1.0183354266603744\n",
      "Epoch 90 cost:  0.6152199732930002\n"
     ]
    },
    {
     "data": {
      "text/plain": [
       "<function matplotlib.pyplot.show>"
      ]
     },
     "execution_count": 5,
     "metadata": {},
     "output_type": "execute_result"
    },
    {
     "data": {
      "image/png": "[encoded data removed]",
      "text/plain": [
       "<matplotlib.figure.Figure at 0x1bcea671438>"
      ]
     },
     "metadata": {},
     "output_type": "display_data"
    }
   ],
   "source": [
    "nEpochs = 100\n",
    "costPlot = np.zeros(nEpochs)\n",
    "\n",
    "for i in range(nEpochs):\n",
    "\n",
    "    Z1 = np.matmul(W1,inputData.T) + b1\n",
    "    A1 = relu(Z1)\n",
    "    Z2 = np.matmul(W2,A1) + b2\n",
    "    A2 = softmax(Z2)\n",
    "\n",
    "    cost = CrossEntropyLoss(y.T, A2)\n",
    "    costPlot[i] = cost\n",
    "\n",
    "    dZ2 = CE_Softmax_Derivative(A2,y.T)\n",
    "    dW2 = (1./m) * np.matmul(dZ2, A1.T)\n",
    "    db2 = (1./m) * np.sum(dZ2, axis=1, keepdims=True)\n",
    "\n",
    "    dA1 = np.matmul(W2.T, dZ2)\n",
    "    dZ1 = dA1 * relu_derivative(Z1)\n",
    "    dW1 = (1./m) * np.matmul(dZ1, inputData)\n",
    "    db1 = (1./m) * np.sum(dZ1, axis=1, keepdims=True)\n",
    "\n",
    "    W2 -= learning_rate * dW2 + weight_decay * W2\n",
    "    b2 -= learning_rate * db2\n",
    "    W1 -= learning_rate * dW1 + weight_decay * W1\n",
    "    b1 -= learning_rate * db1\n",
    "    \n",
    "    if (i % 10 == 0):\n",
    "        print(\"Epoch\", i, \"cost: \", cost)\n",
    "    \n",
    "plt.plot(costPlot)\n",
    "plt.xlabel('Epochs')\n",
    "plt.ylabel('Training Loss')\n",
    "plt.show"
   ]
  },
  {
   "cell_type": "code",
   "execution_count": 6,
   "metadata": {},
   "outputs": [
    {
     "name": "stdout",
     "output_type": "stream",
     "text": [
      "[[ 954    0   12    3    1   19   14    5    7   14]\n",
      " [   0 1095    6    1    6    2    3   16   12    4]\n",
      " [   3    2  886   37    7    3    4   24   12    4]\n",
      " [   0    1    8  851    0   55    0    0    8    8]\n",
      " [   0    1   15    1  809   10   10    5    7   12]\n",
      " [   5    0    1   31    1  685   24    0   21    5]\n",
      " [   9    4   16    5   13   25  896    0   14    0]\n",
      " [   1    3   24   22    3   11    1  925    9   24]\n",
      " [   8   29   56   47   17   71    6    8  871   28]\n",
      " [   0    0    8   12  125   11    0   45   13  910]]\n",
      "             precision    recall  f1-score   support\n",
      "\n",
      "          0       0.97      0.93      0.95      1029\n",
      "          1       0.96      0.96      0.96      1145\n",
      "          2       0.86      0.90      0.88       982\n",
      "          3       0.84      0.91      0.88       931\n",
      "          4       0.82      0.93      0.87       870\n",
      "          5       0.77      0.89      0.82       773\n",
      "          6       0.94      0.91      0.92       982\n",
      "          7       0.90      0.90      0.90      1023\n",
      "          8       0.89      0.76      0.82      1141\n",
      "          9       0.90      0.81      0.85      1124\n",
      "\n",
      "avg / total       0.89      0.89      0.89     10000\n",
      "\n"
     ]
    }
   ],
   "source": [
    "Z1 = np.matmul(W1, InputData_test.T) + b1\n",
    "A1 = relu(Z1)\n",
    "Z2 = np.matmul(W2, A1) + b2\n",
    "\n",
    "predictions = np.argmax(Z2, axis=0)\n",
    "labels = np.argmax(y_test.T, axis=0)\n",
    "\n",
    "print(confusion_matrix(predictions, labels))\n",
    "print(classification_report(predictions, labels))"
   ]
  },
  {
   "cell_type": "code",
   "execution_count": null,
   "metadata": {},
   "outputs": [],
   "source": []
  }
 ],
 "metadata": {
  "kernelspec": {
   "display_name": "Python 3",
   "language": "python",
   "name": "python3"
  },
  "language_info": {
   "codemirror_mode": {
    "name": "ipython",
    "version": 3
   },
   "file_extension": ".py",
   "mimetype": "text/x-python",
   "name": "python",
   "nbconvert_exporter": "python",
   "pygments_lexer": "ipython3",
   "version": "3.6.4"
  }
 },
 "nbformat": 4,
 "nbformat_minor": 2
}
