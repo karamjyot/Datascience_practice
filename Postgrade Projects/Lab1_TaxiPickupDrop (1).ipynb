{
  "nbformat": 4,
  "nbformat_minor": 0,
  "metadata": {
    "kernelspec": {
      "display_name": "Python 3",
      "language": "python",
      "name": "python3"
    },
    "language_info": {
      "codemirror_mode": {
        "name": "ipython",
        "version": 3
      },
      "file_extension": ".py",
      "mimetype": "text/x-python",
      "name": "python",
      "nbconvert_exporter": "python",
      "pygments_lexer": "ipython3",
      "version": "3.7.3"
    },
    "colab": {
      "name": "Lab1_TaxiPickupDrop.ipynb",
      "provenance": []
    }
  },
  "cells": [
    {
      "cell_type": "markdown",
      "metadata": {
        "id": "iLh3fv-DxWp5",
        "colab_type": "text"
      },
      "source": [
        "# Teach a Taxi to pick up and drop off passengers at the right locations with Reinforcement Learning"
      ]
    },
    {
      "cell_type": "code",
      "metadata": {
        "id": "vSngn1mNxWp8",
        "colab_type": "code",
        "colab": {}
      },
      "source": [
        "import gym\n",
        "import numpy as np\n",
        "import pickle, os"
      ],
      "execution_count": 0,
      "outputs": []
    },
    {
      "cell_type": "code",
      "metadata": {
        "id": "IPwsuhiBxWqG",
        "colab_type": "code",
        "colab": {}
      },
      "source": [
        "env = gym.make(\"Taxi-v2\")"
      ],
      "execution_count": 0,
      "outputs": []
    },
    {
      "cell_type": "code",
      "metadata": {
        "id": "6k_5fjutxWqL",
        "colab_type": "code",
        "colab": {}
      },
      "source": [
        "state = env.reset()"
      ],
      "execution_count": 0,
      "outputs": []
    },
    {
      "cell_type": "code",
      "metadata": {
        "id": "FATQPln2xWqV",
        "colab_type": "code",
        "outputId": "79495c4e-9f77-43e1-eaab-d312a3585084",
        "colab": {
          "base_uri": "https://localhost:8080/",
          "height": 34
        }
      },
      "source": [
        "state"
      ],
      "execution_count": 0,
      "outputs": [
        {
          "output_type": "execute_result",
          "data": {
            "text/plain": [
              "46"
            ]
          },
          "metadata": {
            "tags": []
          },
          "execution_count": 5
        }
      ]
    },
    {
      "cell_type": "code",
      "metadata": {
        "id": "DLjrIBC4xWqt",
        "colab_type": "code",
        "outputId": "460c5d02-4b50-4bd2-9c7f-6481ee42eda9",
        "colab": {
          "base_uri": "https://localhost:8080/",
          "height": 158
        }
      },
      "source": [
        "env.render()"
      ],
      "execution_count": 0,
      "outputs": [
        {
          "output_type": "stream",
          "text": [
            "+---------+\n",
            "|R: |\u001b[43m \u001b[0m: :\u001b[34;1mG\u001b[0m|\n",
            "| : : : : |\n",
            "| : : : : |\n",
            "| | : | : |\n",
            "|\u001b[35mY\u001b[0m| : |B: |\n",
            "+---------+\n",
            "\n"
          ],
          "name": "stdout"
        }
      ]
    },
    {
      "cell_type": "markdown",
      "metadata": {
        "id": "5S7VqiMXxWrJ",
        "colab_type": "text"
      },
      "source": [
        "<h1>Possible Actions</h1>\n",
        "\n",
        "down (0), up (1), right (2), left (3), pick-up (4), and drop-off (5)"
      ]
    },
    {
      "cell_type": "code",
      "metadata": {
        "id": "HkNLTwN_xWrK",
        "colab_type": "code",
        "colab": {}
      },
      "source": [
        "n_states = env.observation_space.n\n",
        "n_actions = env.action_space.n"
      ],
      "execution_count": 0,
      "outputs": []
    },
    {
      "cell_type": "code",
      "metadata": {
        "id": "w4tP0PnQxWrM",
        "colab_type": "code",
        "outputId": "f1a200c4-eb6b-4c8e-8f95-7ff41641de09",
        "colab": {
          "base_uri": "https://localhost:8080/",
          "height": 34
        }
      },
      "source": [
        "n_actions"
      ],
      "execution_count": 0,
      "outputs": [
        {
          "output_type": "execute_result",
          "data": {
            "text/plain": [
              "6"
            ]
          },
          "metadata": {
            "tags": []
          },
          "execution_count": 8
        }
      ]
    },
    {
      "cell_type": "code",
      "metadata": {
        "id": "sF3_hfLHxWrO",
        "colab_type": "code",
        "outputId": "06ff38e8-695c-422d-f916-ab433f69cbd7",
        "colab": {
          "base_uri": "https://localhost:8080/",
          "height": 34
        }
      },
      "source": [
        "n_states"
      ],
      "execution_count": 0,
      "outputs": [
        {
          "output_type": "execute_result",
          "data": {
            "text/plain": [
              "500"
            ]
          },
          "metadata": {
            "tags": []
          },
          "execution_count": 9
        }
      ]
    },
    {
      "cell_type": "code",
      "metadata": {
        "id": "hQnqrGwuxWrP",
        "colab_type": "code",
        "colab": {}
      },
      "source": [
        "env.env.s = 254"
      ],
      "execution_count": 0,
      "outputs": []
    },
    {
      "cell_type": "code",
      "metadata": {
        "id": "dL_NxZ7fxWrS",
        "colab_type": "code",
        "outputId": "ae9ce6df-105a-46ac-c61f-750b52a84bd9",
        "colab": {
          "base_uri": "https://localhost:8080/",
          "height": 158
        }
      },
      "source": [
        "env.render()"
      ],
      "execution_count": 0,
      "outputs": [
        {
          "output_type": "stream",
          "text": [
            "+---------+\n",
            "|R: | : :G|\n",
            "| : : : : |\n",
            "| : :\u001b[43m \u001b[0m: : |\n",
            "| | : | : |\n",
            "|\u001b[35mY\u001b[0m| : |\u001b[34;1mB\u001b[0m: |\n",
            "+---------+\n",
            "\n"
          ],
          "name": "stdout"
        }
      ]
    },
    {
      "cell_type": "code",
      "metadata": {
        "id": "kAN4qCQ1xWrU",
        "colab_type": "code",
        "outputId": "90917d10-0894-46bd-aed2-cf7e4e65ca98",
        "colab": {
          "base_uri": "https://localhost:8080/",
          "height": 34
        }
      },
      "source": [
        "env.step(3)"
      ],
      "execution_count": 0,
      "outputs": [
        {
          "output_type": "execute_result",
          "data": {
            "text/plain": [
              "(234, -1, False, {'prob': 1.0})"
            ]
          },
          "metadata": {
            "tags": []
          },
          "execution_count": 26
        }
      ]
    },
    {
      "cell_type": "code",
      "metadata": {
        "id": "DqXmTINK4rDb",
        "colab_type": "code",
        "outputId": "7c85b53d-12ef-41dc-e58e-8e450159835a",
        "colab": {
          "base_uri": "https://localhost:8080/",
          "height": 158
        }
      },
      "source": [
        "env.render()"
      ],
      "execution_count": 0,
      "outputs": [
        {
          "output_type": "stream",
          "text": [
            "+---------+\n",
            "|R: | : :G|\n",
            "| : : : : |\n",
            "| :\u001b[43m \u001b[0m: : : |\n",
            "| | : | : |\n",
            "|\u001b[35mY\u001b[0m| : |\u001b[34;1mB\u001b[0m: |\n",
            "+---------+\n",
            "  (West)\n"
          ],
          "name": "stdout"
        }
      ]
    },
    {
      "cell_type": "markdown",
      "metadata": {
        "id": "US4m8OOdxWrY",
        "colab_type": "text"
      },
      "source": [
        "<h1>How good does behaving completely random do?</h1>"
      ]
    },
    {
      "cell_type": "code",
      "metadata": {
        "id": "6WpByJBjxWra",
        "colab_type": "code",
        "colab": {}
      },
      "source": [
        "state = env.reset()\n",
        "counter = 0\n",
        "g = 0\n",
        "reward = None"
      ],
      "execution_count": 0,
      "outputs": []
    },
    {
      "cell_type": "code",
      "metadata": {
        "id": "OjPyt8v86DOk",
        "colab_type": "code",
        "outputId": "1cef7c21-66a2-4e88-80ff-e4b25618c954",
        "colab": {
          "base_uri": "https://localhost:8080/",
          "height": 158
        }
      },
      "source": [
        "env.render()"
      ],
      "execution_count": 0,
      "outputs": [
        {
          "output_type": "stream",
          "text": [
            "+---------+\n",
            "|R: | : :\u001b[35mG\u001b[0m|\n",
            "| : : : : |\n",
            "| : : : : |\n",
            "| | : | : |\n",
            "|\u001b[34;1mY\u001b[0m|\u001b[43m \u001b[0m: |B: |\n",
            "+---------+\n",
            "\n"
          ],
          "name": "stdout"
        }
      ]
    },
    {
      "cell_type": "code",
      "metadata": {
        "id": "XcANjZnGxWrc",
        "colab_type": "code",
        "colab": {}
      },
      "source": [
        "while reward != 20:\n",
        "    state, reward, done, info = env.step(env.action_space.sample())\n",
        "    counter += 1\n",
        "    g += reward"
      ],
      "execution_count": 0,
      "outputs": []
    },
    {
      "cell_type": "code",
      "metadata": {
        "id": "zpc0Z1XZxWre",
        "colab_type": "code",
        "outputId": "3834359d-b9aa-4e6a-c336-e29e2f37030b",
        "colab": {
          "base_uri": "https://localhost:8080/",
          "height": 34
        }
      },
      "source": [
        "print(\"Solved in {} Steps with a total reward of {}\".format(counter,g))"
      ],
      "execution_count": 0,
      "outputs": [
        {
          "output_type": "stream",
          "text": [
            "Solved in 1975 Steps with a total reward of -7579\n"
          ],
          "name": "stdout"
        }
      ]
    },
    {
      "cell_type": "code",
      "metadata": {
        "id": "1-bI7HPc0KiY",
        "colab_type": "code",
        "colab": {}
      },
      "source": [
        ""
      ],
      "execution_count": 0,
      "outputs": []
    },
    {
      "cell_type": "code",
      "metadata": {
        "id": "pCrNuwPw0MtN",
        "colab_type": "code",
        "colab": {}
      },
      "source": [
        ""
      ],
      "execution_count": 0,
      "outputs": []
    },
    {
      "cell_type": "code",
      "metadata": {
        "id": "J6Q88xNK0Mwh",
        "colab_type": "code",
        "colab": {}
      },
      "source": [
        ""
      ],
      "execution_count": 0,
      "outputs": []
    },
    {
      "cell_type": "code",
      "metadata": {
        "id": "3bhs6IoL0M0J",
        "colab_type": "code",
        "colab": {}
      },
      "source": [
        ""
      ],
      "execution_count": 0,
      "outputs": []
    },
    {
      "cell_type": "code",
      "metadata": {
        "id": "343wMYUj0M3w",
        "colab_type": "code",
        "colab": {}
      },
      "source": [
        ""
      ],
      "execution_count": 0,
      "outputs": []
    },
    {
      "cell_type": "code",
      "metadata": {
        "id": "pOe7eLBY0Klx",
        "colab_type": "code",
        "colab": {}
      },
      "source": [
        ""
      ],
      "execution_count": 0,
      "outputs": []
    },
    {
      "cell_type": "code",
      "metadata": {
        "id": "LJwCeDvt0Ko_",
        "colab_type": "code",
        "colab": {}
      },
      "source": [
        ""
      ],
      "execution_count": 0,
      "outputs": []
    },
    {
      "cell_type": "code",
      "metadata": {
        "id": "nvyhSQaf0KsL",
        "colab_type": "code",
        "colab": {}
      },
      "source": [
        ""
      ],
      "execution_count": 0,
      "outputs": []
    },
    {
      "cell_type": "code",
      "metadata": {
        "id": "vLfUcBw40KvZ",
        "colab_type": "code",
        "colab": {}
      },
      "source": [
        ""
      ],
      "execution_count": 0,
      "outputs": []
    },
    {
      "cell_type": "code",
      "metadata": {
        "id": "XayPPcRY0KyN",
        "colab_type": "code",
        "colab": {}
      },
      "source": [
        ""
      ],
      "execution_count": 0,
      "outputs": []
    },
    {
      "cell_type": "code",
      "metadata": {
        "id": "Vvx2hHMl0K2M",
        "colab_type": "code",
        "colab": {}
      },
      "source": [
        ""
      ],
      "execution_count": 0,
      "outputs": []
    },
    {
      "cell_type": "code",
      "metadata": {
        "id": "6IEK9KKp0K4b",
        "colab_type": "code",
        "colab": {}
      },
      "source": [
        ""
      ],
      "execution_count": 0,
      "outputs": []
    },
    {
      "cell_type": "code",
      "metadata": {
        "id": "vhc0kUQf0K7a",
        "colab_type": "code",
        "colab": {}
      },
      "source": [
        ""
      ],
      "execution_count": 0,
      "outputs": []
    },
    {
      "cell_type": "code",
      "metadata": {
        "id": "Op_ze4RK0K-i",
        "colab_type": "code",
        "colab": {}
      },
      "source": [
        ""
      ],
      "execution_count": 0,
      "outputs": []
    },
    {
      "cell_type": "code",
      "metadata": {
        "id": "kQWxqzkZ0LBN",
        "colab_type": "code",
        "colab": {}
      },
      "source": [
        ""
      ],
      "execution_count": 0,
      "outputs": []
    },
    {
      "cell_type": "markdown",
      "metadata": {
        "id": "zWyfMBRrxWrh",
        "colab_type": "text"
      },
      "source": [
        "## Let's look at just one episode and see how the Q values change after each step using the formula below"
      ]
    },
    {
      "cell_type": "code",
      "metadata": {
        "id": "tYabHjCzxWrj",
        "colab_type": "code",
        "colab": {}
      },
      "source": [
        "Q = np.zeros([n_states, n_actions])"
      ],
      "execution_count": 0,
      "outputs": []
    },
    {
      "cell_type": "code",
      "metadata": {
        "id": "zC7X3obcxWrm",
        "colab_type": "code",
        "colab": {}
      },
      "source": [
        "episodes = 1\n",
        "alpha = 0.618"
      ],
      "execution_count": 0,
      "outputs": []
    },
    {
      "cell_type": "code",
      "metadata": {
        "id": "BNMN-BsyxWrp",
        "colab_type": "code",
        "outputId": "713194d2-e46c-47a5-9cb0-d2fbddb2fada",
        "colab": {
          "base_uri": "https://localhost:8080/",
          "height": 34
        }
      },
      "source": [
        "for episode in range(1,episodes+1):\n",
        "    done = False\n",
        "    reward = 0\n",
        "    state = env.reset()\n",
        "    firstState = state\n",
        "    print(\"Initial State = {}\".format(state))\n",
        "    while reward != 20:\n",
        "        action = np.argmax(Q[state]) \n",
        "        state2, reward, done, info = env.step(action)\n",
        "        Q[state,action] = Q[state,action] +  alpha * (reward + np.max(Q[state2]) - Q[state,action]) \n",
        "        state = state2"
      ],
      "execution_count": 0,
      "outputs": [
        {
          "output_type": "stream",
          "text": [
            "Initial State = 263\n"
          ],
          "name": "stdout"
        }
      ]
    },
    {
      "cell_type": "code",
      "metadata": {
        "id": "sr5b4MqB7hiS",
        "colab_type": "code",
        "outputId": "4d3669e0-cfc5-4d58-b89c-697a923c20f6",
        "colab": {
          "base_uri": "https://localhost:8080/",
          "height": 34
        }
      },
      "source": [
        "firstState"
      ],
      "execution_count": 0,
      "outputs": [
        {
          "output_type": "execute_result",
          "data": {
            "text/plain": [
              "484"
            ]
          },
          "metadata": {
            "tags": []
          },
          "execution_count": 51
        }
      ]
    },
    {
      "cell_type": "code",
      "metadata": {
        "id": "WIqSH4WsxWrt",
        "colab_type": "code",
        "outputId": "1918dc00-f81e-42c4-ed27-9df004449932",
        "colab": {
          "base_uri": "https://localhost:8080/",
          "height": 34
        }
      },
      "source": [
        "finalState = state\n",
        "finalState"
      ],
      "execution_count": 0,
      "outputs": [
        {
          "output_type": "execute_result",
          "data": {
            "text/plain": [
              "0"
            ]
          },
          "metadata": {
            "tags": []
          },
          "execution_count": 53
        }
      ]
    },
    {
      "cell_type": "markdown",
      "metadata": {
        "id": "AZ4QzaJYxWrv",
        "colab_type": "text"
      },
      "source": [
        "## Let's look at the first step:"
      ]
    },
    {
      "cell_type": "code",
      "metadata": {
        "id": "wZYnRe09xWrv",
        "colab_type": "code",
        "outputId": "d5672452-d00c-4f51-de93-26a99f2c3426",
        "colab": {}
      },
      "source": [
        "firstState"
      ],
      "execution_count": 0,
      "outputs": [
        {
          "output_type": "execute_result",
          "data": {
            "text/plain": [
              "44"
            ]
          },
          "metadata": {
            "tags": []
          },
          "execution_count": 21
        }
      ]
    },
    {
      "cell_type": "markdown",
      "metadata": {
        "id": "O_EgQqEExWry",
        "colab_type": "text"
      },
      "source": [
        "## Let's look at the final step:"
      ]
    },
    {
      "cell_type": "code",
      "metadata": {
        "id": "7EDkEx0KxWrz",
        "colab_type": "code",
        "outputId": "38bb0715-b0ed-44be-ae04-60d17f380bed",
        "colab": {}
      },
      "source": [
        "finalState"
      ],
      "execution_count": 0,
      "outputs": [
        {
          "output_type": "execute_result",
          "data": {
            "text/plain": [
              "0"
            ]
          },
          "metadata": {
            "tags": []
          },
          "execution_count": 22
        }
      ]
    },
    {
      "cell_type": "code",
      "metadata": {
        "id": "2BucmidHxWr3",
        "colab_type": "code",
        "outputId": "820d0b5a-dacd-49d1-81f9-d0d628f7e70f",
        "colab": {}
      },
      "source": [
        "Q"
      ],
      "execution_count": 0,
      "outputs": [
        {
          "output_type": "execute_result",
          "data": {
            "text/plain": [
              "array([[0., 0., 0., 0., 0., 0.],\n",
              "       [0., 0., 0., 0., 0., 0.],\n",
              "       [0., 0., 0., 0., 0., 0.],\n",
              "       ...,\n",
              "       [0., 0., 0., 0., 0., 0.],\n",
              "       [0., 0., 0., 0., 0., 0.],\n",
              "       [0., 0., 0., 0., 0., 0.]])"
            ]
          },
          "metadata": {
            "tags": []
          },
          "execution_count": 23
        }
      ]
    },
    {
      "cell_type": "markdown",
      "metadata": {
        "id": "RTNjXHksxWr5",
        "colab_type": "text"
      },
      "source": [
        "## Let's run over multiple episodes so that we can converge on a optimal policy"
      ]
    },
    {
      "cell_type": "code",
      "metadata": {
        "id": "uLjVnpHxxWr5",
        "colab_type": "code",
        "colab": {}
      },
      "source": [
        "episodes = 500\n",
        "rewardTracker = []"
      ],
      "execution_count": 0,
      "outputs": []
    },
    {
      "cell_type": "code",
      "metadata": {
        "id": "COUEBRkWxWr8",
        "colab_type": "code",
        "colab": {}
      },
      "source": [
        "G = 0\n",
        "alpha = 0.618"
      ],
      "execution_count": 0,
      "outputs": []
    },
    {
      "cell_type": "code",
      "metadata": {
        "id": "KLUC1DeaxWr9",
        "colab_type": "code",
        "outputId": "4c5f9f01-94ae-4c49-f077-e12736022531",
        "colab": {
          "base_uri": "https://localhost:8080/",
          "height": 105
        }
      },
      "source": [
        "for episode in range(1,episodes+1):\n",
        "    done = False\n",
        "    G, reward = 0,0\n",
        "    state = env.reset()\n",
        "    while done != True:\n",
        "        action = np.argmax(Q[state]) \n",
        "        state2, reward, done, info = env.step(action) \n",
        "        Q[state,action] += alpha * ((reward + (np.max(Q[state2]))  - Q[state,action]))\n",
        "        G += reward\n",
        "        state = state2\n",
        "        \n",
        "    if episode % 100 == 0:\n",
        "        print('Episode {} Total Reward: {}'.format(episode,G))"
      ],
      "execution_count": 0,
      "outputs": [
        {
          "output_type": "stream",
          "text": [
            "Episode 100 Total Reward: -137\n",
            "Episode 200 Total Reward: -10\n",
            "Episode 300 Total Reward: 12\n",
            "Episode 400 Total Reward: 4\n",
            "Episode 500 Total Reward: 7\n"
          ],
          "name": "stdout"
        }
      ]
    },
    {
      "cell_type": "code",
      "metadata": {
        "id": "26_8gFgOWWxK",
        "colab_type": "code",
        "outputId": "47818eec-f870-4945-b5f0-0e6b47371e9a",
        "colab": {
          "base_uri": "https://localhost:8080/",
          "height": 246
        }
      },
      "source": [
        "Q"
      ],
      "execution_count": 0,
      "outputs": [
        {
          "output_type": "execute_result",
          "data": {
            "text/plain": [
              "array([[ 0.        ,  0.        ,  0.        ,  0.        ,  0.        ,\n",
              "         0.        ],\n",
              "       [-4.69422875, -4.326     , -4.5307258 , -4.326     , 12.99999975,\n",
              "        -6.18      ],\n",
              "       [-4.14804284, -3.708     , -3.47193932, -3.708     , 15.        ,\n",
              "        -6.18      ],\n",
              "       ...,\n",
              "       [-2.472     , -2.48515958, -2.472     , -3.25333424, -6.18      ,\n",
              "        -6.18      ],\n",
              "       [-4.944     , -4.97179544, -4.944     , -5.5047722 , -6.18      ,\n",
              "        -6.18      ],\n",
              "       [-1.236     , -1.236     , -1.236     ,  6.784404  , -6.18      ,\n",
              "        -6.18      ]])"
            ]
          },
          "metadata": {
            "tags": []
          },
          "execution_count": 45
        }
      ]
    },
    {
      "cell_type": "markdown",
      "metadata": {
        "id": "0zsmScj7xWr_",
        "colab_type": "text"
      },
      "source": [
        "## Now that we have learned the optimal Q Values we have developed a optimal policy and have no need to train the agent anymore"
      ]
    },
    {
      "cell_type": "code",
      "metadata": {
        "id": "_-Wkc2DQxWr_",
        "colab_type": "code",
        "colab": {}
      },
      "source": [
        "state = env.reset()\n",
        "done = None"
      ],
      "execution_count": 0,
      "outputs": []
    },
    {
      "cell_type": "code",
      "metadata": {
        "id": "dDc9z3xg8PLV",
        "colab_type": "code",
        "outputId": "0f1dc79e-751c-4581-dd33-cacf56ebc739",
        "colab": {
          "base_uri": "https://localhost:8080/",
          "height": 158
        }
      },
      "source": [
        "env.render()"
      ],
      "execution_count": 0,
      "outputs": [
        {
          "output_type": "stream",
          "text": [
            "+---------+\n",
            "|R: | : :G|\n",
            "| : : : : |\n",
            "| : : : : |\n",
            "| | : | : |\n",
            "|\u001b[35m\u001b[34;1m\u001b[43mY\u001b[0m\u001b[0m\u001b[0m| : |B: |\n",
            "+---------+\n",
            "  (Dropoff)\n"
          ],
          "name": "stdout"
        }
      ]
    },
    {
      "cell_type": "code",
      "metadata": {
        "id": "RsAjXkqcW2xS",
        "colab_type": "code",
        "colab": {}
      },
      "source": [
        "counter = 0\n",
        "state = env.reset()\n",
        "done = False"
      ],
      "execution_count": 0,
      "outputs": []
    },
    {
      "cell_type": "code",
      "metadata": {
        "id": "IOMy7swExWsB",
        "colab_type": "code",
        "colab": {}
      },
      "source": [
        "while done != True:\n",
        "    # We simply take the action with the highest Q Value\n",
        "    action = np.argmax(Q[state])\n",
        "    state, reward, done, info = env.step(action)\n",
        "    counter += 1\n",
        "    #env.render()"
      ],
      "execution_count": 0,
      "outputs": []
    },
    {
      "cell_type": "code",
      "metadata": {
        "id": "estrqQCPW-g_",
        "colab_type": "code",
        "outputId": "2f609b38-a6b3-4b46-e785-942828605f85",
        "colab": {
          "base_uri": "https://localhost:8080/",
          "height": 34
        }
      },
      "source": [
        "counter"
      ],
      "execution_count": 0,
      "outputs": [
        {
          "output_type": "execute_result",
          "data": {
            "text/plain": [
              "200"
            ]
          },
          "metadata": {
            "tags": []
          },
          "execution_count": 66
        }
      ]
    },
    {
      "cell_type": "code",
      "metadata": {
        "id": "ofYw2xZxxWsE",
        "colab_type": "code",
        "colab": {}
      },
      "source": [
        ""
      ],
      "execution_count": 0,
      "outputs": []
    },
    {
      "cell_type": "code",
      "metadata": {
        "id": "DVdoyEk7xWsI",
        "colab_type": "code",
        "colab": {}
      },
      "source": [
        "with open(\"smartTaxi_qTable.pkl\", 'wb') as f:\n",
        "    pickle.dump(Q, f)"
      ],
      "execution_count": 0,
      "outputs": []
    },
    {
      "cell_type": "code",
      "metadata": {
        "id": "rirQZxA1xWsK",
        "colab_type": "code",
        "colab": {}
      },
      "source": [
        "with open(\"smartTaxi_qTable.pkl\", 'rb') as f:\n",
        "    Qtest = pickle.load(f)"
      ],
      "execution_count": 0,
      "outputs": []
    },
    {
      "cell_type": "code",
      "metadata": {
        "id": "YFAQkiYZxWsM",
        "colab_type": "code",
        "colab": {}
      },
      "source": [
        ""
      ],
      "execution_count": 0,
      "outputs": []
    }
  ]
}