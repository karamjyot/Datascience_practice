{
 "cells": [
  {
   "cell_type": "markdown",
   "metadata": {
    "_cell_guid": "730aa0c8-dff2-4f89-8fef-349350d33935",
    "_uuid": "dd7eb0082ace007f5c0c63c924769b271976e511",
    "papermill": {
     "duration": 0.03499,
     "end_time": "2020-12-15T12:00:04.592353",
     "exception": false,
     "start_time": "2020-12-15T12:00:04.557363",
     "status": "completed"
    },
    "tags": []
   },
   "source": [
    "# Titanic: simple ensemble voting"
   ]
  },
  {
   "cell_type": "markdown",
   "metadata": {
    "papermill": {
     "duration": 0.032508,
     "end_time": "2020-12-15T12:00:04.658916",
     "exception": false,
     "start_time": "2020-12-15T12:00:04.626408",
     "status": "completed"
    },
    "tags": []
   },
   "source": [
    "### Content:\n",
    "\n",
    "[1. Import Libraries](#ch1)\n",
    "\n",
    "[2. Read In and Explore the Data](#ch2)\n",
    "\n",
    "[3. Data Analysis and Visualisation](#ch3)\n",
    "\n",
    "[4. Cleaning and Transforming the Data](#ch4)\n",
    "\n",
    "[5. Feature Creation](#ch5)\n",
    "\n",
    "[6. Model and Feature Selection](#ch6)\n",
    "\n",
    "[7. Creating Submission File](#ch7)\n"
   ]
  },
  {
   "cell_type": "markdown",
   "metadata": {
    "_cell_guid": "f20a268f-e8ab-4c51-a1e5-00a5fef70824",
    "_uuid": "16f8521e8886e34460820e853d5de539451a82f7",
    "papermill": {
     "duration": 0.032138,
     "end_time": "2020-12-15T12:00:04.723905",
     "exception": false,
     "start_time": "2020-12-15T12:00:04.691767",
     "status": "completed"
    },
    "tags": []
   },
   "source": [
    "<a id=\"ch1\"></a>\n",
    "## 1. Import Libraries\n",
    "First, we need to import several Python libraries such as numpy, pandas, matplotlib and seaborn."
   ]
  },
  {
   "cell_type": "code",
   "execution_count": 1,
   "metadata": {
    "_cell_guid": "8b547494-0ee2-4596-bd96-fe0c1654c626",
    "_uuid": "1ec634790f3cfdd372c20f8ba3d66c7b410e993f",
    "execution": {
     "iopub.execute_input": "2020-12-15T12:00:04.797614Z",
     "iopub.status.busy": "2020-12-15T12:00:04.796833Z",
     "iopub.status.idle": "2020-12-15T12:00:06.000740Z",
     "shell.execute_reply": "2020-12-15T12:00:05.999974Z"
    },
    "papermill": {
     "duration": 1.244084,
     "end_time": "2020-12-15T12:00:06.000889",
     "exception": false,
     "start_time": "2020-12-15T12:00:04.756805",
     "status": "completed"
    },
    "tags": []
   },
   "outputs": [],
   "source": [
    "#data analysis libraries \n",
    "import numpy as np\n",
    "import pandas as pd\n",
    "\n",
    "#visualization libraries\n",
    "import matplotlib.pyplot as plt\n",
    "import seaborn as sns\n",
    "%matplotlib inline\n",
    "\n",
    "#ignore warnings\n",
    "import warnings\n",
    "warnings.filterwarnings('ignore')"
   ]
  },
  {
   "cell_type": "markdown",
   "metadata": {
    "_cell_guid": "2c18255f-e77f-4edf-817a-b76d2330ca70",
    "_uuid": "dc2d74e13fbcabaa244ca108a1669e2812e98075",
    "papermill": {
     "duration": 0.034448,
     "end_time": "2020-12-15T12:00:06.069157",
     "exception": false,
     "start_time": "2020-12-15T12:00:06.034709",
     "status": "completed"
    },
    "tags": []
   },
   "source": [
    "<a id=\"ch2\"></a>\n",
    "## 2. Read in and Explore the Data  <div id=\"part2\"> </div>\n",
    "It's time to read in our training and testing data using `pd.read_csv`, and take a first look at the training data using the `describe()` function."
   ]
  },
  {
   "cell_type": "code",
   "execution_count": 2,
   "metadata": {
    "_cell_guid": "b8200d17-9f26-4507-9161-2e3dd1ef154d",
    "_uuid": "31e1c08d3f6633be24186295ceb5ef7305205c87",
    "execution": {
     "iopub.execute_input": "2020-12-15T12:00:06.144635Z",
     "iopub.status.busy": "2020-12-15T12:00:06.143798Z",
     "iopub.status.idle": "2020-12-15T12:00:06.253502Z",
     "shell.execute_reply": "2020-12-15T12:00:06.254008Z"
    },
    "papermill": {
     "duration": 0.152056,
     "end_time": "2020-12-15T12:00:06.254171",
     "exception": false,
     "start_time": "2020-12-15T12:00:06.102115",
     "status": "completed"
    },
    "tags": []
   },
   "outputs": [
    {
     "data": {
      "text/html": [
       "<div>\n",
       "<style scoped>\n",
       "    .dataframe tbody tr th:only-of-type {\n",
       "        vertical-align: middle;\n",
       "    }\n",
       "\n",
       "    .dataframe tbody tr th {\n",
       "        vertical-align: top;\n",
       "    }\n",
       "\n",
       "    .dataframe thead th {\n",
       "        text-align: right;\n",
       "    }\n",
       "</style>\n",
       "<table border=\"1\" class=\"dataframe\">\n",
       "  <thead>\n",
       "    <tr style=\"text-align: right;\">\n",
       "      <th></th>\n",
       "      <th>PassengerId</th>\n",
       "      <th>Survived</th>\n",
       "      <th>Pclass</th>\n",
       "      <th>Name</th>\n",
       "      <th>Sex</th>\n",
       "      <th>Age</th>\n",
       "      <th>SibSp</th>\n",
       "      <th>Parch</th>\n",
       "      <th>Ticket</th>\n",
       "      <th>Fare</th>\n",
       "      <th>Cabin</th>\n",
       "      <th>Embarked</th>\n",
       "    </tr>\n",
       "  </thead>\n",
       "  <tbody>\n",
       "    <tr>\n",
       "      <th>count</th>\n",
       "      <td>891.000000</td>\n",
       "      <td>891.000000</td>\n",
       "      <td>891.000000</td>\n",
       "      <td>891</td>\n",
       "      <td>891</td>\n",
       "      <td>714.000000</td>\n",
       "      <td>891.000000</td>\n",
       "      <td>891.000000</td>\n",
       "      <td>891</td>\n",
       "      <td>891.000000</td>\n",
       "      <td>204</td>\n",
       "      <td>889</td>\n",
       "    </tr>\n",
       "    <tr>\n",
       "      <th>unique</th>\n",
       "      <td>NaN</td>\n",
       "      <td>NaN</td>\n",
       "      <td>NaN</td>\n",
       "      <td>891</td>\n",
       "      <td>2</td>\n",
       "      <td>NaN</td>\n",
       "      <td>NaN</td>\n",
       "      <td>NaN</td>\n",
       "      <td>681</td>\n",
       "      <td>NaN</td>\n",
       "      <td>147</td>\n",
       "      <td>3</td>\n",
       "    </tr>\n",
       "    <tr>\n",
       "      <th>top</th>\n",
       "      <td>NaN</td>\n",
       "      <td>NaN</td>\n",
       "      <td>NaN</td>\n",
       "      <td>Dakic, Mr. Branko</td>\n",
       "      <td>male</td>\n",
       "      <td>NaN</td>\n",
       "      <td>NaN</td>\n",
       "      <td>NaN</td>\n",
       "      <td>347082</td>\n",
       "      <td>NaN</td>\n",
       "      <td>C23 C25 C27</td>\n",
       "      <td>S</td>\n",
       "    </tr>\n",
       "    <tr>\n",
       "      <th>freq</th>\n",
       "      <td>NaN</td>\n",
       "      <td>NaN</td>\n",
       "      <td>NaN</td>\n",
       "      <td>1</td>\n",
       "      <td>577</td>\n",
       "      <td>NaN</td>\n",
       "      <td>NaN</td>\n",
       "      <td>NaN</td>\n",
       "      <td>7</td>\n",
       "      <td>NaN</td>\n",
       "      <td>4</td>\n",
       "      <td>644</td>\n",
       "    </tr>\n",
       "    <tr>\n",
       "      <th>mean</th>\n",
       "      <td>446.000000</td>\n",
       "      <td>0.383838</td>\n",
       "      <td>2.308642</td>\n",
       "      <td>NaN</td>\n",
       "      <td>NaN</td>\n",
       "      <td>29.699118</td>\n",
       "      <td>0.523008</td>\n",
       "      <td>0.381594</td>\n",
       "      <td>NaN</td>\n",
       "      <td>32.204208</td>\n",
       "      <td>NaN</td>\n",
       "      <td>NaN</td>\n",
       "    </tr>\n",
       "    <tr>\n",
       "      <th>std</th>\n",
       "      <td>257.353842</td>\n",
       "      <td>0.486592</td>\n",
       "      <td>0.836071</td>\n",
       "      <td>NaN</td>\n",
       "      <td>NaN</td>\n",
       "      <td>14.526497</td>\n",
       "      <td>1.102743</td>\n",
       "      <td>0.806057</td>\n",
       "      <td>NaN</td>\n",
       "      <td>49.693429</td>\n",
       "      <td>NaN</td>\n",
       "      <td>NaN</td>\n",
       "    </tr>\n",
       "    <tr>\n",
       "      <th>min</th>\n",
       "      <td>1.000000</td>\n",
       "      <td>0.000000</td>\n",
       "      <td>1.000000</td>\n",
       "      <td>NaN</td>\n",
       "      <td>NaN</td>\n",
       "      <td>0.420000</td>\n",
       "      <td>0.000000</td>\n",
       "      <td>0.000000</td>\n",
       "      <td>NaN</td>\n",
       "      <td>0.000000</td>\n",
       "      <td>NaN</td>\n",
       "      <td>NaN</td>\n",
       "    </tr>\n",
       "    <tr>\n",
       "      <th>25%</th>\n",
       "      <td>223.500000</td>\n",
       "      <td>0.000000</td>\n",
       "      <td>2.000000</td>\n",
       "      <td>NaN</td>\n",
       "      <td>NaN</td>\n",
       "      <td>20.125000</td>\n",
       "      <td>0.000000</td>\n",
       "      <td>0.000000</td>\n",
       "      <td>NaN</td>\n",
       "      <td>7.910400</td>\n",
       "      <td>NaN</td>\n",
       "      <td>NaN</td>\n",
       "    </tr>\n",
       "    <tr>\n",
       "      <th>50%</th>\n",
       "      <td>446.000000</td>\n",
       "      <td>0.000000</td>\n",
       "      <td>3.000000</td>\n",
       "      <td>NaN</td>\n",
       "      <td>NaN</td>\n",
       "      <td>28.000000</td>\n",
       "      <td>0.000000</td>\n",
       "      <td>0.000000</td>\n",
       "      <td>NaN</td>\n",
       "      <td>14.454200</td>\n",
       "      <td>NaN</td>\n",
       "      <td>NaN</td>\n",
       "    </tr>\n",
       "    <tr>\n",
       "      <th>75%</th>\n",
       "      <td>668.500000</td>\n",
       "      <td>1.000000</td>\n",
       "      <td>3.000000</td>\n",
       "      <td>NaN</td>\n",
       "      <td>NaN</td>\n",
       "      <td>38.000000</td>\n",
       "      <td>1.000000</td>\n",
       "      <td>0.000000</td>\n",
       "      <td>NaN</td>\n",
       "      <td>31.000000</td>\n",
       "      <td>NaN</td>\n",
       "      <td>NaN</td>\n",
       "    </tr>\n",
       "    <tr>\n",
       "      <th>max</th>\n",
       "      <td>891.000000</td>\n",
       "      <td>1.000000</td>\n",
       "      <td>3.000000</td>\n",
       "      <td>NaN</td>\n",
       "      <td>NaN</td>\n",
       "      <td>80.000000</td>\n",
       "      <td>8.000000</td>\n",
       "      <td>6.000000</td>\n",
       "      <td>NaN</td>\n",
       "      <td>512.329200</td>\n",
       "      <td>NaN</td>\n",
       "      <td>NaN</td>\n",
       "    </tr>\n",
       "  </tbody>\n",
       "</table>\n",
       "</div>"
      ],
      "text/plain": [
       "        PassengerId    Survived      Pclass               Name   Sex  \\\n",
       "count    891.000000  891.000000  891.000000                891   891   \n",
       "unique          NaN         NaN         NaN                891     2   \n",
       "top             NaN         NaN         NaN  Dakic, Mr. Branko  male   \n",
       "freq            NaN         NaN         NaN                  1   577   \n",
       "mean     446.000000    0.383838    2.308642                NaN   NaN   \n",
       "std      257.353842    0.486592    0.836071                NaN   NaN   \n",
       "min        1.000000    0.000000    1.000000                NaN   NaN   \n",
       "25%      223.500000    0.000000    2.000000                NaN   NaN   \n",
       "50%      446.000000    0.000000    3.000000                NaN   NaN   \n",
       "75%      668.500000    1.000000    3.000000                NaN   NaN   \n",
       "max      891.000000    1.000000    3.000000                NaN   NaN   \n",
       "\n",
       "               Age       SibSp       Parch  Ticket        Fare        Cabin  \\\n",
       "count   714.000000  891.000000  891.000000     891  891.000000          204   \n",
       "unique         NaN         NaN         NaN     681         NaN          147   \n",
       "top            NaN         NaN         NaN  347082         NaN  C23 C25 C27   \n",
       "freq           NaN         NaN         NaN       7         NaN            4   \n",
       "mean     29.699118    0.523008    0.381594     NaN   32.204208          NaN   \n",
       "std      14.526497    1.102743    0.806057     NaN   49.693429          NaN   \n",
       "min       0.420000    0.000000    0.000000     NaN    0.000000          NaN   \n",
       "25%      20.125000    0.000000    0.000000     NaN    7.910400          NaN   \n",
       "50%      28.000000    0.000000    0.000000     NaN   14.454200          NaN   \n",
       "75%      38.000000    1.000000    0.000000     NaN   31.000000          NaN   \n",
       "max      80.000000    8.000000    6.000000     NaN  512.329200          NaN   \n",
       "\n",
       "       Embarked  \n",
       "count       889  \n",
       "unique        3  \n",
       "top           S  \n",
       "freq        644  \n",
       "mean        NaN  \n",
       "std         NaN  \n",
       "min         NaN  \n",
       "25%         NaN  \n",
       "50%         NaN  \n",
       "75%         NaN  \n",
       "max         NaN  "
      ]
     },
     "execution_count": 2,
     "metadata": {},
     "output_type": "execute_result"
    }
   ],
   "source": [
    "#import train and test CSV files\n",
    "train = pd.read_csv(\"../input/titanic/train.csv\")\n",
    "test = pd.read_csv(\"../input/titanic/test.csv\")\n",
    "\n",
    "#take a look at the training data\n",
    "train.describe(include=\"all\")"
   ]
  },
  {
   "cell_type": "code",
   "execution_count": 3,
   "metadata": {
    "execution": {
     "iopub.execute_input": "2020-12-15T12:00:06.329726Z",
     "iopub.status.busy": "2020-12-15T12:00:06.328718Z",
     "iopub.status.idle": "2020-12-15T12:00:06.331377Z",
     "shell.execute_reply": "2020-12-15T12:00:06.330682Z"
    },
    "papermill": {
     "duration": 0.042236,
     "end_time": "2020-12-15T12:00:06.331518",
     "exception": false,
     "start_time": "2020-12-15T12:00:06.289282",
     "status": "completed"
    },
    "tags": []
   },
   "outputs": [],
   "source": [
    "# save PassengerId for a future output \n",
    "ids = test['PassengerId']"
   ]
  },
  {
   "cell_type": "code",
   "execution_count": 4,
   "metadata": {
    "_cell_guid": "a6ee4c59-0af2-4f83-8698-e5a273bf4fbe",
    "_uuid": "20ad8f96b508e388aa060cd9dd6cb4d03bc1e9bf",
    "execution": {
     "iopub.execute_input": "2020-12-15T12:00:06.406017Z",
     "iopub.status.busy": "2020-12-15T12:00:06.405194Z",
     "iopub.status.idle": "2020-12-15T12:00:06.409331Z",
     "shell.execute_reply": "2020-12-15T12:00:06.408799Z"
    },
    "papermill": {
     "duration": 0.043565,
     "end_time": "2020-12-15T12:00:06.409459",
     "exception": false,
     "start_time": "2020-12-15T12:00:06.365894",
     "status": "completed"
    },
    "tags": []
   },
   "outputs": [
    {
     "name": "stdout",
     "output_type": "stream",
     "text": [
      "Index(['PassengerId', 'Survived', 'Pclass', 'Name', 'Sex', 'Age', 'SibSp',\n",
      "       'Parch', 'Ticket', 'Fare', 'Cabin', 'Embarked'],\n",
      "      dtype='object')\n"
     ]
    }
   ],
   "source": [
    "#get a list of the features within the dataset\n",
    "print(train.columns)"
   ]
  },
  {
   "cell_type": "code",
   "execution_count": 5,
   "metadata": {
    "_cell_guid": "31308e14-a2cf-41fd-b60d-a2a764431e7f",
    "_uuid": "0b4b77818ea8e573f25b44841c5235ee8d2a2af3",
    "execution": {
     "iopub.execute_input": "2020-12-15T12:00:06.500504Z",
     "iopub.status.busy": "2020-12-15T12:00:06.499489Z",
     "iopub.status.idle": "2020-12-15T12:00:06.503981Z",
     "shell.execute_reply": "2020-12-15T12:00:06.504439Z"
    },
    "papermill": {
     "duration": 0.059755,
     "end_time": "2020-12-15T12:00:06.504610",
     "exception": false,
     "start_time": "2020-12-15T12:00:06.444855",
     "status": "completed"
    },
    "tags": []
   },
   "outputs": [
    {
     "data": {
      "text/html": [
       "<div>\n",
       "<style scoped>\n",
       "    .dataframe tbody tr th:only-of-type {\n",
       "        vertical-align: middle;\n",
       "    }\n",
       "\n",
       "    .dataframe tbody tr th {\n",
       "        vertical-align: top;\n",
       "    }\n",
       "\n",
       "    .dataframe thead th {\n",
       "        text-align: right;\n",
       "    }\n",
       "</style>\n",
       "<table border=\"1\" class=\"dataframe\">\n",
       "  <thead>\n",
       "    <tr style=\"text-align: right;\">\n",
       "      <th></th>\n",
       "      <th>PassengerId</th>\n",
       "      <th>Survived</th>\n",
       "      <th>Pclass</th>\n",
       "      <th>Name</th>\n",
       "      <th>Sex</th>\n",
       "      <th>Age</th>\n",
       "      <th>SibSp</th>\n",
       "      <th>Parch</th>\n",
       "      <th>Ticket</th>\n",
       "      <th>Fare</th>\n",
       "      <th>Cabin</th>\n",
       "      <th>Embarked</th>\n",
       "    </tr>\n",
       "  </thead>\n",
       "  <tbody>\n",
       "    <tr>\n",
       "      <th>46</th>\n",
       "      <td>47</td>\n",
       "      <td>0</td>\n",
       "      <td>3</td>\n",
       "      <td>Lennon, Mr. Denis</td>\n",
       "      <td>male</td>\n",
       "      <td>NaN</td>\n",
       "      <td>1</td>\n",
       "      <td>0</td>\n",
       "      <td>370371</td>\n",
       "      <td>15.500</td>\n",
       "      <td>NaN</td>\n",
       "      <td>Q</td>\n",
       "    </tr>\n",
       "    <tr>\n",
       "      <th>443</th>\n",
       "      <td>444</td>\n",
       "      <td>1</td>\n",
       "      <td>2</td>\n",
       "      <td>Reynaldo, Ms. Encarnacion</td>\n",
       "      <td>female</td>\n",
       "      <td>28.0</td>\n",
       "      <td>0</td>\n",
       "      <td>0</td>\n",
       "      <td>230434</td>\n",
       "      <td>13.000</td>\n",
       "      <td>NaN</td>\n",
       "      <td>S</td>\n",
       "    </tr>\n",
       "    <tr>\n",
       "      <th>215</th>\n",
       "      <td>216</td>\n",
       "      <td>1</td>\n",
       "      <td>1</td>\n",
       "      <td>Newell, Miss. Madeleine</td>\n",
       "      <td>female</td>\n",
       "      <td>31.0</td>\n",
       "      <td>1</td>\n",
       "      <td>0</td>\n",
       "      <td>35273</td>\n",
       "      <td>113.275</td>\n",
       "      <td>D36</td>\n",
       "      <td>C</td>\n",
       "    </tr>\n",
       "    <tr>\n",
       "      <th>461</th>\n",
       "      <td>462</td>\n",
       "      <td>0</td>\n",
       "      <td>3</td>\n",
       "      <td>Morley, Mr. William</td>\n",
       "      <td>male</td>\n",
       "      <td>34.0</td>\n",
       "      <td>0</td>\n",
       "      <td>0</td>\n",
       "      <td>364506</td>\n",
       "      <td>8.050</td>\n",
       "      <td>NaN</td>\n",
       "      <td>S</td>\n",
       "    </tr>\n",
       "    <tr>\n",
       "      <th>24</th>\n",
       "      <td>25</td>\n",
       "      <td>0</td>\n",
       "      <td>3</td>\n",
       "      <td>Palsson, Miss. Torborg Danira</td>\n",
       "      <td>female</td>\n",
       "      <td>8.0</td>\n",
       "      <td>3</td>\n",
       "      <td>1</td>\n",
       "      <td>349909</td>\n",
       "      <td>21.075</td>\n",
       "      <td>NaN</td>\n",
       "      <td>S</td>\n",
       "    </tr>\n",
       "  </tbody>\n",
       "</table>\n",
       "</div>"
      ],
      "text/plain": [
       "     PassengerId  Survived  Pclass                           Name     Sex  \\\n",
       "46            47         0       3              Lennon, Mr. Denis    male   \n",
       "443          444         1       2      Reynaldo, Ms. Encarnacion  female   \n",
       "215          216         1       1        Newell, Miss. Madeleine  female   \n",
       "461          462         0       3            Morley, Mr. William    male   \n",
       "24            25         0       3  Palsson, Miss. Torborg Danira  female   \n",
       "\n",
       "      Age  SibSp  Parch  Ticket     Fare Cabin Embarked  \n",
       "46    NaN      1      0  370371   15.500   NaN        Q  \n",
       "443  28.0      0      0  230434   13.000   NaN        S  \n",
       "215  31.0      1      0   35273  113.275   D36        C  \n",
       "461  34.0      0      0  364506    8.050   NaN        S  \n",
       "24    8.0      3      1  349909   21.075   NaN        S  "
      ]
     },
     "execution_count": 5,
     "metadata": {},
     "output_type": "execute_result"
    }
   ],
   "source": [
    "#see a sample of the dataset to get an idea of the variables\n",
    "train.sample(5)"
   ]
  },
  {
   "cell_type": "code",
   "execution_count": 6,
   "metadata": {
    "_cell_guid": "02b24c5c-2c30-4b9e-ab81-9417fc2ca244",
    "_uuid": "f1a6b393e85252e9e85ef9b8e0aeb7dd99fe510d",
    "execution": {
     "iopub.execute_input": "2020-12-15T12:00:06.584783Z",
     "iopub.status.busy": "2020-12-15T12:00:06.582969Z",
     "iopub.status.idle": "2020-12-15T12:00:06.625871Z",
     "shell.execute_reply": "2020-12-15T12:00:06.625232Z"
    },
    "papermill": {
     "duration": 0.086184,
     "end_time": "2020-12-15T12:00:06.625998",
     "exception": false,
     "start_time": "2020-12-15T12:00:06.539814",
     "status": "completed"
    },
    "tags": []
   },
   "outputs": [
    {
     "data": {
      "text/html": [
       "<div>\n",
       "<style scoped>\n",
       "    .dataframe tbody tr th:only-of-type {\n",
       "        vertical-align: middle;\n",
       "    }\n",
       "\n",
       "    .dataframe tbody tr th {\n",
       "        vertical-align: top;\n",
       "    }\n",
       "\n",
       "    .dataframe thead th {\n",
       "        text-align: right;\n",
       "    }\n",
       "</style>\n",
       "<table border=\"1\" class=\"dataframe\">\n",
       "  <thead>\n",
       "    <tr style=\"text-align: right;\">\n",
       "      <th></th>\n",
       "      <th>PassengerId</th>\n",
       "      <th>Survived</th>\n",
       "      <th>Pclass</th>\n",
       "      <th>Name</th>\n",
       "      <th>Sex</th>\n",
       "      <th>Age</th>\n",
       "      <th>SibSp</th>\n",
       "      <th>Parch</th>\n",
       "      <th>Ticket</th>\n",
       "      <th>Fare</th>\n",
       "      <th>Cabin</th>\n",
       "      <th>Embarked</th>\n",
       "    </tr>\n",
       "  </thead>\n",
       "  <tbody>\n",
       "    <tr>\n",
       "      <th>count</th>\n",
       "      <td>891.000000</td>\n",
       "      <td>891.000000</td>\n",
       "      <td>891.000000</td>\n",
       "      <td>891</td>\n",
       "      <td>891</td>\n",
       "      <td>714.000000</td>\n",
       "      <td>891.000000</td>\n",
       "      <td>891.000000</td>\n",
       "      <td>891</td>\n",
       "      <td>891.000000</td>\n",
       "      <td>204</td>\n",
       "      <td>889</td>\n",
       "    </tr>\n",
       "    <tr>\n",
       "      <th>unique</th>\n",
       "      <td>NaN</td>\n",
       "      <td>NaN</td>\n",
       "      <td>NaN</td>\n",
       "      <td>891</td>\n",
       "      <td>2</td>\n",
       "      <td>NaN</td>\n",
       "      <td>NaN</td>\n",
       "      <td>NaN</td>\n",
       "      <td>681</td>\n",
       "      <td>NaN</td>\n",
       "      <td>147</td>\n",
       "      <td>3</td>\n",
       "    </tr>\n",
       "    <tr>\n",
       "      <th>top</th>\n",
       "      <td>NaN</td>\n",
       "      <td>NaN</td>\n",
       "      <td>NaN</td>\n",
       "      <td>Dakic, Mr. Branko</td>\n",
       "      <td>male</td>\n",
       "      <td>NaN</td>\n",
       "      <td>NaN</td>\n",
       "      <td>NaN</td>\n",
       "      <td>347082</td>\n",
       "      <td>NaN</td>\n",
       "      <td>C23 C25 C27</td>\n",
       "      <td>S</td>\n",
       "    </tr>\n",
       "    <tr>\n",
       "      <th>freq</th>\n",
       "      <td>NaN</td>\n",
       "      <td>NaN</td>\n",
       "      <td>NaN</td>\n",
       "      <td>1</td>\n",
       "      <td>577</td>\n",
       "      <td>NaN</td>\n",
       "      <td>NaN</td>\n",
       "      <td>NaN</td>\n",
       "      <td>7</td>\n",
       "      <td>NaN</td>\n",
       "      <td>4</td>\n",
       "      <td>644</td>\n",
       "    </tr>\n",
       "    <tr>\n",
       "      <th>mean</th>\n",
       "      <td>446.000000</td>\n",
       "      <td>0.383838</td>\n",
       "      <td>2.308642</td>\n",
       "      <td>NaN</td>\n",
       "      <td>NaN</td>\n",
       "      <td>29.699118</td>\n",
       "      <td>0.523008</td>\n",
       "      <td>0.381594</td>\n",
       "      <td>NaN</td>\n",
       "      <td>32.204208</td>\n",
       "      <td>NaN</td>\n",
       "      <td>NaN</td>\n",
       "    </tr>\n",
       "    <tr>\n",
       "      <th>std</th>\n",
       "      <td>257.353842</td>\n",
       "      <td>0.486592</td>\n",
       "      <td>0.836071</td>\n",
       "      <td>NaN</td>\n",
       "      <td>NaN</td>\n",
       "      <td>14.526497</td>\n",
       "      <td>1.102743</td>\n",
       "      <td>0.806057</td>\n",
       "      <td>NaN</td>\n",
       "      <td>49.693429</td>\n",
       "      <td>NaN</td>\n",
       "      <td>NaN</td>\n",
       "    </tr>\n",
       "    <tr>\n",
       "      <th>min</th>\n",
       "      <td>1.000000</td>\n",
       "      <td>0.000000</td>\n",
       "      <td>1.000000</td>\n",
       "      <td>NaN</td>\n",
       "      <td>NaN</td>\n",
       "      <td>0.420000</td>\n",
       "      <td>0.000000</td>\n",
       "      <td>0.000000</td>\n",
       "      <td>NaN</td>\n",
       "      <td>0.000000</td>\n",
       "      <td>NaN</td>\n",
       "      <td>NaN</td>\n",
       "    </tr>\n",
       "    <tr>\n",
       "      <th>25%</th>\n",
       "      <td>223.500000</td>\n",
       "      <td>0.000000</td>\n",
       "      <td>2.000000</td>\n",
       "      <td>NaN</td>\n",
       "      <td>NaN</td>\n",
       "      <td>20.125000</td>\n",
       "      <td>0.000000</td>\n",
       "      <td>0.000000</td>\n",
       "      <td>NaN</td>\n",
       "      <td>7.910400</td>\n",
       "      <td>NaN</td>\n",
       "      <td>NaN</td>\n",
       "    </tr>\n",
       "    <tr>\n",
       "      <th>50%</th>\n",
       "      <td>446.000000</td>\n",
       "      <td>0.000000</td>\n",
       "      <td>3.000000</td>\n",
       "      <td>NaN</td>\n",
       "      <td>NaN</td>\n",
       "      <td>28.000000</td>\n",
       "      <td>0.000000</td>\n",
       "      <td>0.000000</td>\n",
       "      <td>NaN</td>\n",
       "      <td>14.454200</td>\n",
       "      <td>NaN</td>\n",
       "      <td>NaN</td>\n",
       "    </tr>\n",
       "    <tr>\n",
       "      <th>75%</th>\n",
       "      <td>668.500000</td>\n",
       "      <td>1.000000</td>\n",
       "      <td>3.000000</td>\n",
       "      <td>NaN</td>\n",
       "      <td>NaN</td>\n",
       "      <td>38.000000</td>\n",
       "      <td>1.000000</td>\n",
       "      <td>0.000000</td>\n",
       "      <td>NaN</td>\n",
       "      <td>31.000000</td>\n",
       "      <td>NaN</td>\n",
       "      <td>NaN</td>\n",
       "    </tr>\n",
       "    <tr>\n",
       "      <th>max</th>\n",
       "      <td>891.000000</td>\n",
       "      <td>1.000000</td>\n",
       "      <td>3.000000</td>\n",
       "      <td>NaN</td>\n",
       "      <td>NaN</td>\n",
       "      <td>80.000000</td>\n",
       "      <td>8.000000</td>\n",
       "      <td>6.000000</td>\n",
       "      <td>NaN</td>\n",
       "      <td>512.329200</td>\n",
       "      <td>NaN</td>\n",
       "      <td>NaN</td>\n",
       "    </tr>\n",
       "  </tbody>\n",
       "</table>\n",
       "</div>"
      ],
      "text/plain": [
       "        PassengerId    Survived      Pclass               Name   Sex  \\\n",
       "count    891.000000  891.000000  891.000000                891   891   \n",
       "unique          NaN         NaN         NaN                891     2   \n",
       "top             NaN         NaN         NaN  Dakic, Mr. Branko  male   \n",
       "freq            NaN         NaN         NaN                  1   577   \n",
       "mean     446.000000    0.383838    2.308642                NaN   NaN   \n",
       "std      257.353842    0.486592    0.836071                NaN   NaN   \n",
       "min        1.000000    0.000000    1.000000                NaN   NaN   \n",
       "25%      223.500000    0.000000    2.000000                NaN   NaN   \n",
       "50%      446.000000    0.000000    3.000000                NaN   NaN   \n",
       "75%      668.500000    1.000000    3.000000                NaN   NaN   \n",
       "max      891.000000    1.000000    3.000000                NaN   NaN   \n",
       "\n",
       "               Age       SibSp       Parch  Ticket        Fare        Cabin  \\\n",
       "count   714.000000  891.000000  891.000000     891  891.000000          204   \n",
       "unique         NaN         NaN         NaN     681         NaN          147   \n",
       "top            NaN         NaN         NaN  347082         NaN  C23 C25 C27   \n",
       "freq           NaN         NaN         NaN       7         NaN            4   \n",
       "mean     29.699118    0.523008    0.381594     NaN   32.204208          NaN   \n",
       "std      14.526497    1.102743    0.806057     NaN   49.693429          NaN   \n",
       "min       0.420000    0.000000    0.000000     NaN    0.000000          NaN   \n",
       "25%      20.125000    0.000000    0.000000     NaN    7.910400          NaN   \n",
       "50%      28.000000    0.000000    0.000000     NaN   14.454200          NaN   \n",
       "75%      38.000000    1.000000    0.000000     NaN   31.000000          NaN   \n",
       "max      80.000000    8.000000    6.000000     NaN  512.329200          NaN   \n",
       "\n",
       "       Embarked  \n",
       "count       889  \n",
       "unique        3  \n",
       "top           S  \n",
       "freq        644  \n",
       "mean        NaN  \n",
       "std         NaN  \n",
       "min         NaN  \n",
       "25%         NaN  \n",
       "50%         NaN  \n",
       "75%         NaN  \n",
       "max         NaN  "
      ]
     },
     "execution_count": 6,
     "metadata": {},
     "output_type": "execute_result"
    }
   ],
   "source": [
    "#see a summary of the training dataset\n",
    "train.describe(include = \"all\")"
   ]
  },
  {
   "cell_type": "markdown",
   "metadata": {
    "_cell_guid": "644cc349-70e6-4650-9d26-b429802f5efa",
    "_uuid": "97bb9b0e680db92ab2fe5f4392210156aae1e989",
    "papermill": {
     "duration": 0.03492,
     "end_time": "2020-12-15T12:00:06.696807",
     "exception": false,
     "start_time": "2020-12-15T12:00:06.661887",
     "status": "completed"
    },
    "tags": []
   },
   "source": [
    "#### Some Observations:\n",
    "* There are a total of 891 passengers in our training set.\n",
    "* The Age feature is missing approximately 19.8% of its values. I'm guessing that the Age feature is pretty important to survival, so we should probably attempt to fill these gaps. \n",
    "* The Cabin feature is missing approximately 77.1% of its values. Since so much of the feature is missing, it would be hard to fill in the missing values. We'll probably drop these values from our dataset.\n",
    "* The Embarked feature is missing 0.22% of its values, which should be relatively harmless."
   ]
  },
  {
   "cell_type": "code",
   "execution_count": 7,
   "metadata": {
    "_cell_guid": "1f65770d-4c54-4605-9fd8-80d99eadbbab",
    "_uuid": "42dddbd08a428f4e3548d36e8619663d561fbf3b",
    "execution": {
     "iopub.execute_input": "2020-12-15T12:00:06.776159Z",
     "iopub.status.busy": "2020-12-15T12:00:06.775433Z",
     "iopub.status.idle": "2020-12-15T12:00:06.780026Z",
     "shell.execute_reply": "2020-12-15T12:00:06.779122Z"
    },
    "papermill": {
     "duration": 0.047813,
     "end_time": "2020-12-15T12:00:06.780171",
     "exception": false,
     "start_time": "2020-12-15T12:00:06.732358",
     "status": "completed"
    },
    "tags": []
   },
   "outputs": [
    {
     "name": "stdout",
     "output_type": "stream",
     "text": [
      "PassengerId      0\n",
      "Survived         0\n",
      "Pclass           0\n",
      "Name             0\n",
      "Sex              0\n",
      "Age            177\n",
      "SibSp            0\n",
      "Parch            0\n",
      "Ticket           0\n",
      "Fare             0\n",
      "Cabin          687\n",
      "Embarked         2\n",
      "dtype: int64\n"
     ]
    }
   ],
   "source": [
    "#check for any other unusable values\n",
    "print(pd.isnull(train).sum())"
   ]
  },
  {
   "cell_type": "markdown",
   "metadata": {
    "_cell_guid": "7c83809f-48cd-47f2-836b-c13e34ec9356",
    "_uuid": "62f63111ad2ce761785782995126aa06979296ba",
    "papermill": {
     "duration": 0.037182,
     "end_time": "2020-12-15T12:00:06.854359",
     "exception": false,
     "start_time": "2020-12-15T12:00:06.817177",
     "status": "completed"
    },
    "tags": []
   },
   "source": [
    "We can see that except for the abovementioned missing values, no NaN values exist."
   ]
  },
  {
   "cell_type": "markdown",
   "metadata": {
    "_cell_guid": "0a23ca84-ed03-4073-9bba-1d5ffd52c925",
    "_uuid": "ac6896faf20480d1d0dd2cdb38324833a6fff650",
    "papermill": {
     "duration": 0.035865,
     "end_time": "2020-12-15T12:00:06.926457",
     "exception": false,
     "start_time": "2020-12-15T12:00:06.890592",
     "status": "completed"
    },
    "tags": []
   },
   "source": [
    "### Some Predictions:\n",
    "* Sex: Females are more likely to survive.\n",
    "* SibSp/Parch: People traveling alone are more likely to survive.\n",
    "* Age: Young children are more likely to survive.\n",
    "* Pclass: People of higher socioeconomic class are more likely to survive."
   ]
  },
  {
   "cell_type": "markdown",
   "metadata": {
    "_cell_guid": "3de7077c-bac3-4a75-bd33-9438063d8d8e",
    "_uuid": "799a64948fd1b9e1486a14024df46e3b585ca426",
    "papermill": {
     "duration": 0.035626,
     "end_time": "2020-12-15T12:00:06.998309",
     "exception": false,
     "start_time": "2020-12-15T12:00:06.962683",
     "status": "completed"
    },
    "tags": []
   },
   "source": [
    "<a id=\"ch3\"></a>\n",
    "## 3. Data Analysis and Visualisation\n",
    "It's time to analize our data so we can see whether our predictions were accurate! "
   ]
  },
  {
   "cell_type": "code",
   "execution_count": 8,
   "metadata": {
    "execution": {
     "iopub.execute_input": "2020-12-15T12:00:07.092083Z",
     "iopub.status.busy": "2020-12-15T12:00:07.090685Z",
     "iopub.status.idle": "2020-12-15T12:00:08.401501Z",
     "shell.execute_reply": "2020-12-15T12:00:08.401984Z"
    },
    "papermill": {
     "duration": 1.365881,
     "end_time": "2020-12-15T12:00:08.402165",
     "exception": false,
     "start_time": "2020-12-15T12:00:07.036284",
     "status": "completed"
    },
    "tags": []
   },
   "outputs": [
    {
     "name": "stdout",
     "output_type": "stream",
     "text": [
      "Survival Correlation by: Sex\n",
      "      Sex  Survived\n",
      "0  female  0.742038\n",
      "1    male  0.188908\n",
      "---------- \n",
      "\n",
      "Survival Correlation by: Pclass\n",
      "   Pclass  Survived\n",
      "0       1  0.629630\n",
      "1       2  0.472826\n",
      "2       3  0.242363\n",
      "---------- \n",
      "\n",
      "Survival Correlation by: SibSp\n",
      "   SibSp  Survived\n",
      "0      0  0.345395\n",
      "1      1  0.535885\n",
      "2      2  0.464286\n",
      "3      3  0.250000\n",
      "4      4  0.166667\n",
      "5      5  0.000000\n",
      "6      8  0.000000\n",
      "---------- \n",
      "\n",
      "Survival Correlation by: Parch\n",
      "   Parch  Survived\n",
      "0      0  0.343658\n",
      "1      1  0.550847\n",
      "2      2  0.500000\n",
      "3      3  0.600000\n",
      "4      4  0.000000\n",
      "5      5  0.200000\n",
      "6      6  0.000000\n",
      "---------- \n",
      "\n",
      "Survival Correlation by: Embarked\n",
      "  Embarked  Survived\n",
      "0        C  0.553571\n",
      "1        Q  0.389610\n",
      "2        S  0.336957\n",
      "---------- \n",
      "\n"
     ]
    },
    {
     "data": {
      "image/png": "[encoded data removed]",
      "text/plain": [
       "<Figure size 2160x432 with 5 Axes>"
      ]
     },
     "metadata": {
      "needs_background": "light"
     },
     "output_type": "display_data"
    }
   ],
   "source": [
    "features = ['Sex', 'Pclass', 'SibSp', 'Parch', 'Embarked']\n",
    "fig, saxis = plt.subplots(1, len(features),figsize=(len(features) * 6,6))\n",
    "for ind, x in enumerate(features):\n",
    "    print('Survival Correlation by:', x)\n",
    "    print(train[[x, \"Survived\"]].groupby(x, as_index=False).mean()) \n",
    "    print('-'*10, '\\n')\n",
    "    #draw a bar plot of survival by sex\n",
    "    sns.barplot(x, y=\"Survived\", data=train, ax = saxis[ind])\n",
    "    "
   ]
  },
  {
   "cell_type": "markdown",
   "metadata": {
    "_cell_guid": "e4b6333c-7f43-4f8f-a199-17fcf5806db0",
    "_uuid": "876d73b47f56dd7fa188b8ec69b5d91a4d62c917",
    "papermill": {
     "duration": 0.038577,
     "end_time": "2020-12-15T12:00:08.480009",
     "exception": false,
     "start_time": "2020-12-15T12:00:08.441432",
     "status": "completed"
    },
    "tags": []
   },
   "source": [
    "As predicted, \n",
    "* females have a much higher chance of survival than males. The Sex feature is essential in our predictions\n",
    "* people with higher socioeconomic class had a higher rate of survival. (62.9% vs. 47.3% vs. 24.2%)\n",
    "\n",
    "In general, it's clear that people with more siblings or spouses aboard were less likely to survive. However, contrary to expectations, people with no siblings or spouses were less to likely to survive than those with one or two. (34.5% vs 53.4% vs. 46.4%)\n",
    "\n",
    "People with less than four parents or children aboard are more likely to survive than those with four or more. Again, people traveling alone are less likely to survive than those with 1-3 parents or children."
   ]
  },
  {
   "cell_type": "markdown",
   "metadata": {
    "_cell_guid": "9635fa44-a884-48a4-8eae-1a38a41d1c58",
    "_uuid": "3865ab5f13074f09d9604d80761ee2c08cb1d6d9",
    "papermill": {
     "duration": 0.038125,
     "end_time": "2020-12-15T12:00:08.556943",
     "exception": false,
     "start_time": "2020-12-15T12:00:08.518818",
     "status": "completed"
    },
    "tags": []
   },
   "source": [
    "### Age Feature"
   ]
  },
  {
   "cell_type": "code",
   "execution_count": 9,
   "metadata": {
    "_cell_guid": "9188caf6-10c5-4003-bcf1-66b54d662c09",
    "_uuid": "0467092de1cc5ffb94921516e76e0d675c772716",
    "execution": {
     "iopub.execute_input": "2020-12-15T12:00:08.647029Z",
     "iopub.status.busy": "2020-12-15T12:00:08.642352Z",
     "iopub.status.idle": "2020-12-15T12:00:08.908278Z",
     "shell.execute_reply": "2020-12-15T12:00:08.907746Z"
    },
    "papermill": {
     "duration": 0.313023,
     "end_time": "2020-12-15T12:00:08.908420",
     "exception": false,
     "start_time": "2020-12-15T12:00:08.595397",
     "status": "completed"
    },
    "tags": []
   },
   "outputs": [
    {
     "data": {
      "image/png": "[encoded data removed]",
      "text/plain": [
       "<Figure size 432x288 with 1 Axes>"
      ]
     },
     "metadata": {
      "needs_background": "light"
     },
     "output_type": "display_data"
    }
   ],
   "source": [
    "#sort the ages into logical categories\n",
    "bins = [0, 2, 12, 17, 60, np.inf]\n",
    "labels = ['baby', 'child', 'teenager', 'adult', 'elderly']\n",
    "age_groups = pd.cut(train.Age, bins, labels = labels)\n",
    "train['AgeGroup'] = age_groups\n",
    "\n",
    "#draw a bar plot of Age vs. survival\n",
    "sns.barplot(x=\"AgeGroup\", y=\"Survived\", data=train)\n",
    "plt.show()"
   ]
  },
  {
   "cell_type": "markdown",
   "metadata": {
    "_cell_guid": "1a439d36-4116-4b93-98da-e2befe265fd8",
    "_uuid": "780d41388683c3ed63ee4a447bf78a3e1750ea40",
    "papermill": {
     "duration": 0.039134,
     "end_time": "2020-12-15T12:00:08.986487",
     "exception": false,
     "start_time": "2020-12-15T12:00:08.947353",
     "status": "completed"
    },
    "tags": []
   },
   "source": [
    "The survival probability deacreases with age. "
   ]
  },
  {
   "cell_type": "markdown",
   "metadata": {
    "_cell_guid": "c6e8ecf8-796e-4f30-ac88-62b21c71d2d7",
    "_uuid": "b7adbf12f57fa29860e36c827a968d9ed6eda949",
    "papermill": {
     "duration": 0.038605,
     "end_time": "2020-12-15T12:00:09.064042",
     "exception": false,
     "start_time": "2020-12-15T12:00:09.025437",
     "status": "completed"
    },
    "tags": []
   },
   "source": [
    "### Cabin Feature\n",
    "The idea here is that people with recorded cabin numbers are of higher socioeconomic class, and thus more likely to survive."
   ]
  },
  {
   "cell_type": "code",
   "execution_count": 10,
   "metadata": {
    "_cell_guid": "8732f634-3605-4dce-bd76-8c4758c7dacf",
    "_uuid": "1e2ca5a5f1f10c0f1d7c2f34a9fc92b577631556",
    "execution": {
     "iopub.execute_input": "2020-12-15T12:00:09.154187Z",
     "iopub.status.busy": "2020-12-15T12:00:09.153319Z",
     "iopub.status.idle": "2020-12-15T12:00:09.332888Z",
     "shell.execute_reply": "2020-12-15T12:00:09.332205Z"
    },
    "papermill": {
     "duration": 0.229895,
     "end_time": "2020-12-15T12:00:09.333023",
     "exception": false,
     "start_time": "2020-12-15T12:00:09.103128",
     "status": "completed"
    },
    "tags": []
   },
   "outputs": [
    {
     "name": "stdout",
     "output_type": "stream",
     "text": [
      "Survival Correlation by: Cabin\n",
      "   CabinBool  Survived\n",
      "0          0  0.299854\n",
      "1          1  0.666667\n"
     ]
    },
    {
     "data": {
      "image/png": "[encoded data removed]",
      "text/plain": [
       "<Figure size 432x288 with 1 Axes>"
      ]
     },
     "metadata": {
      "needs_background": "light"
     },
     "output_type": "display_data"
    }
   ],
   "source": [
    "train[\"CabinBool\"] = (train[\"Cabin\"].notnull().astype('int'))\n",
    "test[\"CabinBool\"] = (test[\"Cabin\"].notnull().astype('int'))\n",
    "\n",
    "#calculate percentages of CabinBool vs. survived\n",
    "\n",
    "print('Survival Correlation by: Cabin')\n",
    "print(train[[\"CabinBool\", \"Survived\"]].groupby(\"CabinBool\", as_index=False).mean()) \n",
    "\n",
    "#draw a bar plot of CabinBool vs. survival\n",
    "sns.barplot(x=\"CabinBool\", y=\"Survived\", data=train)\n",
    "plt.show()"
   ]
  },
  {
   "cell_type": "markdown",
   "metadata": {
    "_cell_guid": "c6651960-d7f3-4f28-9759-71676c2cf93e",
    "_uuid": "7f6572c8c51c25de73665d80875267add963c2b3",
    "papermill": {
     "duration": 0.039749,
     "end_time": "2020-12-15T12:00:09.412659",
     "exception": false,
     "start_time": "2020-12-15T12:00:09.372910",
     "status": "completed"
    },
    "tags": []
   },
   "source": [
    "People with a recorded Cabin number are, in fact, more likely to survive. (66.6% vs 29.9%)"
   ]
  },
  {
   "cell_type": "markdown",
   "metadata": {
    "_cell_guid": "1b8a795d-e4dc-4f7c-a001-26b9bcd86d67",
    "_uuid": "8a11100acd44f07a3e77b973f60cd3a8a17700f8",
    "papermill": {
     "duration": 0.040646,
     "end_time": "2020-12-15T12:00:09.494232",
     "exception": false,
     "start_time": "2020-12-15T12:00:09.453586",
     "status": "completed"
    },
    "tags": []
   },
   "source": [
    "<a id=\"ch4\"></a>\n",
    "## 4. Cleaning and Transforming the Data\n",
    "Time to clean our data to account for missing values and unnecessary information!"
   ]
  },
  {
   "cell_type": "markdown",
   "metadata": {
    "_cell_guid": "1f281521-8a27-4da9-b679-f61e233b3099",
    "_uuid": "21ccaa6a70b4833c46b2eef8f98178cdc957c26e",
    "papermill": {
     "duration": 0.039279,
     "end_time": "2020-12-15T12:00:09.573208",
     "exception": false,
     "start_time": "2020-12-15T12:00:09.533929",
     "status": "completed"
    },
    "tags": []
   },
   "source": [
    "### Looking at the Test Data\n",
    "Let's see how our test data looks!"
   ]
  },
  {
   "cell_type": "code",
   "execution_count": 11,
   "metadata": {
    "_cell_guid": "51bd144d-bc3d-4b2e-b3a4-3def3ef5a614",
    "_uuid": "ed0b5356807dae805e8f0c76c71a01c86a396ccb",
    "execution": {
     "iopub.execute_input": "2020-12-15T12:00:09.665600Z",
     "iopub.status.busy": "2020-12-15T12:00:09.663458Z",
     "iopub.status.idle": "2020-12-15T12:00:09.708959Z",
     "shell.execute_reply": "2020-12-15T12:00:09.708268Z"
    },
    "papermill": {
     "duration": 0.095785,
     "end_time": "2020-12-15T12:00:09.709100",
     "exception": false,
     "start_time": "2020-12-15T12:00:09.613315",
     "status": "completed"
    },
    "tags": []
   },
   "outputs": [
    {
     "data": {
      "text/html": [
       "<div>\n",
       "<style scoped>\n",
       "    .dataframe tbody tr th:only-of-type {\n",
       "        vertical-align: middle;\n",
       "    }\n",
       "\n",
       "    .dataframe tbody tr th {\n",
       "        vertical-align: top;\n",
       "    }\n",
       "\n",
       "    .dataframe thead th {\n",
       "        text-align: right;\n",
       "    }\n",
       "</style>\n",
       "<table border=\"1\" class=\"dataframe\">\n",
       "  <thead>\n",
       "    <tr style=\"text-align: right;\">\n",
       "      <th></th>\n",
       "      <th>PassengerId</th>\n",
       "      <th>Pclass</th>\n",
       "      <th>Name</th>\n",
       "      <th>Sex</th>\n",
       "      <th>Age</th>\n",
       "      <th>SibSp</th>\n",
       "      <th>Parch</th>\n",
       "      <th>Ticket</th>\n",
       "      <th>Fare</th>\n",
       "      <th>Cabin</th>\n",
       "      <th>Embarked</th>\n",
       "      <th>CabinBool</th>\n",
       "    </tr>\n",
       "  </thead>\n",
       "  <tbody>\n",
       "    <tr>\n",
       "      <th>count</th>\n",
       "      <td>418.000000</td>\n",
       "      <td>418.000000</td>\n",
       "      <td>418</td>\n",
       "      <td>418</td>\n",
       "      <td>332.000000</td>\n",
       "      <td>418.000000</td>\n",
       "      <td>418.000000</td>\n",
       "      <td>418</td>\n",
       "      <td>417.000000</td>\n",
       "      <td>91</td>\n",
       "      <td>418</td>\n",
       "      <td>418.000000</td>\n",
       "    </tr>\n",
       "    <tr>\n",
       "      <th>unique</th>\n",
       "      <td>NaN</td>\n",
       "      <td>NaN</td>\n",
       "      <td>418</td>\n",
       "      <td>2</td>\n",
       "      <td>NaN</td>\n",
       "      <td>NaN</td>\n",
       "      <td>NaN</td>\n",
       "      <td>363</td>\n",
       "      <td>NaN</td>\n",
       "      <td>76</td>\n",
       "      <td>3</td>\n",
       "      <td>NaN</td>\n",
       "    </tr>\n",
       "    <tr>\n",
       "      <th>top</th>\n",
       "      <td>NaN</td>\n",
       "      <td>NaN</td>\n",
       "      <td>Cor, Mr. Bartol</td>\n",
       "      <td>male</td>\n",
       "      <td>NaN</td>\n",
       "      <td>NaN</td>\n",
       "      <td>NaN</td>\n",
       "      <td>PC 17608</td>\n",
       "      <td>NaN</td>\n",
       "      <td>B57 B59 B63 B66</td>\n",
       "      <td>S</td>\n",
       "      <td>NaN</td>\n",
       "    </tr>\n",
       "    <tr>\n",
       "      <th>freq</th>\n",
       "      <td>NaN</td>\n",
       "      <td>NaN</td>\n",
       "      <td>1</td>\n",
       "      <td>266</td>\n",
       "      <td>NaN</td>\n",
       "      <td>NaN</td>\n",
       "      <td>NaN</td>\n",
       "      <td>5</td>\n",
       "      <td>NaN</td>\n",
       "      <td>3</td>\n",
       "      <td>270</td>\n",
       "      <td>NaN</td>\n",
       "    </tr>\n",
       "    <tr>\n",
       "      <th>mean</th>\n",
       "      <td>1100.500000</td>\n",
       "      <td>2.265550</td>\n",
       "      <td>NaN</td>\n",
       "      <td>NaN</td>\n",
       "      <td>30.272590</td>\n",
       "      <td>0.447368</td>\n",
       "      <td>0.392344</td>\n",
       "      <td>NaN</td>\n",
       "      <td>35.627188</td>\n",
       "      <td>NaN</td>\n",
       "      <td>NaN</td>\n",
       "      <td>0.217703</td>\n",
       "    </tr>\n",
       "    <tr>\n",
       "      <th>std</th>\n",
       "      <td>120.810458</td>\n",
       "      <td>0.841838</td>\n",
       "      <td>NaN</td>\n",
       "      <td>NaN</td>\n",
       "      <td>14.181209</td>\n",
       "      <td>0.896760</td>\n",
       "      <td>0.981429</td>\n",
       "      <td>NaN</td>\n",
       "      <td>55.907576</td>\n",
       "      <td>NaN</td>\n",
       "      <td>NaN</td>\n",
       "      <td>0.413179</td>\n",
       "    </tr>\n",
       "    <tr>\n",
       "      <th>min</th>\n",
       "      <td>892.000000</td>\n",
       "      <td>1.000000</td>\n",
       "      <td>NaN</td>\n",
       "      <td>NaN</td>\n",
       "      <td>0.170000</td>\n",
       "      <td>0.000000</td>\n",
       "      <td>0.000000</td>\n",
       "      <td>NaN</td>\n",
       "      <td>0.000000</td>\n",
       "      <td>NaN</td>\n",
       "      <td>NaN</td>\n",
       "      <td>0.000000</td>\n",
       "    </tr>\n",
       "    <tr>\n",
       "      <th>25%</th>\n",
       "      <td>996.250000</td>\n",
       "      <td>1.000000</td>\n",
       "      <td>NaN</td>\n",
       "      <td>NaN</td>\n",
       "      <td>21.000000</td>\n",
       "      <td>0.000000</td>\n",
       "      <td>0.000000</td>\n",
       "      <td>NaN</td>\n",
       "      <td>7.895800</td>\n",
       "      <td>NaN</td>\n",
       "      <td>NaN</td>\n",
       "      <td>0.000000</td>\n",
       "    </tr>\n",
       "    <tr>\n",
       "      <th>50%</th>\n",
       "      <td>1100.500000</td>\n",
       "      <td>3.000000</td>\n",
       "      <td>NaN</td>\n",
       "      <td>NaN</td>\n",
       "      <td>27.000000</td>\n",
       "      <td>0.000000</td>\n",
       "      <td>0.000000</td>\n",
       "      <td>NaN</td>\n",
       "      <td>14.454200</td>\n",
       "      <td>NaN</td>\n",
       "      <td>NaN</td>\n",
       "      <td>0.000000</td>\n",
       "    </tr>\n",
       "    <tr>\n",
       "      <th>75%</th>\n",
       "      <td>1204.750000</td>\n",
       "      <td>3.000000</td>\n",
       "      <td>NaN</td>\n",
       "      <td>NaN</td>\n",
       "      <td>39.000000</td>\n",
       "      <td>1.000000</td>\n",
       "      <td>0.000000</td>\n",
       "      <td>NaN</td>\n",
       "      <td>31.500000</td>\n",
       "      <td>NaN</td>\n",
       "      <td>NaN</td>\n",
       "      <td>0.000000</td>\n",
       "    </tr>\n",
       "    <tr>\n",
       "      <th>max</th>\n",
       "      <td>1309.000000</td>\n",
       "      <td>3.000000</td>\n",
       "      <td>NaN</td>\n",
       "      <td>NaN</td>\n",
       "      <td>76.000000</td>\n",
       "      <td>8.000000</td>\n",
       "      <td>9.000000</td>\n",
       "      <td>NaN</td>\n",
       "      <td>512.329200</td>\n",
       "      <td>NaN</td>\n",
       "      <td>NaN</td>\n",
       "      <td>1.000000</td>\n",
       "    </tr>\n",
       "  </tbody>\n",
       "</table>\n",
       "</div>"
      ],
      "text/plain": [
       "        PassengerId      Pclass             Name   Sex         Age  \\\n",
       "count    418.000000  418.000000              418   418  332.000000   \n",
       "unique          NaN         NaN              418     2         NaN   \n",
       "top             NaN         NaN  Cor, Mr. Bartol  male         NaN   \n",
       "freq            NaN         NaN                1   266         NaN   \n",
       "mean    1100.500000    2.265550              NaN   NaN   30.272590   \n",
       "std      120.810458    0.841838              NaN   NaN   14.181209   \n",
       "min      892.000000    1.000000              NaN   NaN    0.170000   \n",
       "25%      996.250000    1.000000              NaN   NaN   21.000000   \n",
       "50%     1100.500000    3.000000              NaN   NaN   27.000000   \n",
       "75%     1204.750000    3.000000              NaN   NaN   39.000000   \n",
       "max     1309.000000    3.000000              NaN   NaN   76.000000   \n",
       "\n",
       "             SibSp       Parch    Ticket        Fare            Cabin  \\\n",
       "count   418.000000  418.000000       418  417.000000               91   \n",
       "unique         NaN         NaN       363         NaN               76   \n",
       "top            NaN         NaN  PC 17608         NaN  B57 B59 B63 B66   \n",
       "freq           NaN         NaN         5         NaN                3   \n",
       "mean      0.447368    0.392344       NaN   35.627188              NaN   \n",
       "std       0.896760    0.981429       NaN   55.907576              NaN   \n",
       "min       0.000000    0.000000       NaN    0.000000              NaN   \n",
       "25%       0.000000    0.000000       NaN    7.895800              NaN   \n",
       "50%       0.000000    0.000000       NaN   14.454200              NaN   \n",
       "75%       1.000000    0.000000       NaN   31.500000              NaN   \n",
       "max       8.000000    9.000000       NaN  512.329200              NaN   \n",
       "\n",
       "       Embarked   CabinBool  \n",
       "count       418  418.000000  \n",
       "unique        3         NaN  \n",
       "top           S         NaN  \n",
       "freq        270         NaN  \n",
       "mean        NaN    0.217703  \n",
       "std         NaN    0.413179  \n",
       "min         NaN    0.000000  \n",
       "25%         NaN    0.000000  \n",
       "50%         NaN    0.000000  \n",
       "75%         NaN    0.000000  \n",
       "max         NaN    1.000000  "
      ]
     },
     "execution_count": 11,
     "metadata": {},
     "output_type": "execute_result"
    }
   ],
   "source": [
    "test.describe(include=\"all\")"
   ]
  },
  {
   "cell_type": "markdown",
   "metadata": {
    "_cell_guid": "10ac0007-e513-4e06-9680-b9548cb64304",
    "_uuid": "dbb4cfac71a016808d91f29ec4293ba94adea9f9",
    "papermill": {
     "duration": 0.040176,
     "end_time": "2020-12-15T12:00:09.790795",
     "exception": false,
     "start_time": "2020-12-15T12:00:09.750619",
     "status": "completed"
    },
    "tags": []
   },
   "source": [
    "* We have a total of 418 passengers.\n",
    "* 1 value from the Fare feature is missing.\n",
    "* Around 20.5% of the Age feature is missing, we will need to fill that in."
   ]
  },
  {
   "cell_type": "markdown",
   "metadata": {
    "papermill": {
     "duration": 0.040067,
     "end_time": "2020-12-15T12:00:09.872820",
     "exception": false,
     "start_time": "2020-12-15T12:00:09.832753",
     "status": "completed"
    },
    "tags": []
   },
   "source": [
    "### Combining Training and Test data for cleaning and transforming"
   ]
  },
  {
   "cell_type": "code",
   "execution_count": 12,
   "metadata": {
    "execution": {
     "iopub.execute_input": "2020-12-15T12:00:09.968417Z",
     "iopub.status.busy": "2020-12-15T12:00:09.967570Z",
     "iopub.status.idle": "2020-12-15T12:00:09.971660Z",
     "shell.execute_reply": "2020-12-15T12:00:09.972160Z"
    },
    "papermill": {
     "duration": 0.05858,
     "end_time": "2020-12-15T12:00:09.972340",
     "exception": false,
     "start_time": "2020-12-15T12:00:09.913760",
     "status": "completed"
    },
    "tags": []
   },
   "outputs": [
    {
     "name": "stdout",
     "output_type": "stream",
     "text": [
      "(1309, 14)\n"
     ]
    }
   ],
   "source": [
    "# all_data = pd.concat([train.drop(columns='Survived'), test], ignore_index=True)\n",
    "all_data = pd.concat([train, test], ignore_index=True)\n",
    "print(all_data.shape)"
   ]
  },
  {
   "cell_type": "markdown",
   "metadata": {
    "_cell_guid": "19bdb486-8ad6-424b-b12a-ec711ea40a78",
    "_uuid": "d67ef4589d6744b718ab7652975cc2be38adfc34",
    "papermill": {
     "duration": 0.040339,
     "end_time": "2020-12-15T12:00:10.053497",
     "exception": false,
     "start_time": "2020-12-15T12:00:10.013158",
     "status": "completed"
    },
    "tags": []
   },
   "source": [
    "### Filling simple missing features"
   ]
  },
  {
   "cell_type": "code",
   "execution_count": 13,
   "metadata": {
    "_cell_guid": "7413f753-a675-411d-931d-e3a9ca7509f0",
    "_uuid": "2269d0172302ef9a5c0d627ec0a139d89e33f871",
    "execution": {
     "iopub.execute_input": "2020-12-15T12:00:10.145378Z",
     "iopub.status.busy": "2020-12-15T12:00:10.144555Z",
     "iopub.status.idle": "2020-12-15T12:00:10.147181Z",
     "shell.execute_reply": "2020-12-15T12:00:10.147709Z"
    },
    "papermill": {
     "duration": 0.053366,
     "end_time": "2020-12-15T12:00:10.147883",
     "exception": false,
     "start_time": "2020-12-15T12:00:10.094517",
     "status": "completed"
    },
    "tags": []
   },
   "outputs": [],
   "source": [
    "#complete embarked with mode\n",
    "all_data['Embarked'].fillna(all_data['Embarked'].mode()[0], inplace = True)\n",
    "\n",
    "#complete missing fare with median\n",
    "all_data['Fare'].fillna(all_data['Fare'].median(), inplace = True)\n"
   ]
  },
  {
   "cell_type": "markdown",
   "metadata": {
    "papermill": {
     "duration": 0.040305,
     "end_time": "2020-12-15T12:00:10.230495",
     "exception": false,
     "start_time": "2020-12-15T12:00:10.190190",
     "status": "completed"
    },
    "tags": []
   },
   "source": [
    "### Filling missing features using other features"
   ]
  },
  {
   "cell_type": "markdown",
   "metadata": {
    "_cell_guid": "a450e321-1857-415a-a479-234911f3d661",
    "_uuid": "5bb4686eb612f4dad5cbba0f4aae10cf463a3df3",
    "papermill": {
     "duration": 0.040958,
     "end_time": "2020-12-15T12:00:10.312014",
     "exception": false,
     "start_time": "2020-12-15T12:00:10.271056",
     "status": "completed"
    },
    "tags": []
   },
   "source": [
    "#### Age Feature"
   ]
  },
  {
   "cell_type": "markdown",
   "metadata": {
    "_cell_guid": "02704ec3-ca1b-4688-8841-8b3e37883d71",
    "_uuid": "6083d493c627a16606969e3258858d3335b0e705",
    "papermill": {
     "duration": 0.040806,
     "end_time": "2020-12-15T12:00:10.394622",
     "exception": false,
     "start_time": "2020-12-15T12:00:10.353816",
     "status": "completed"
    },
    "tags": []
   },
   "source": [
    "Next we'll fill in the missing values in the Age feature. Since a higher percentage of values are missing, it would be illogical to fill all of them with the same value (as we did with Embarked). Instead, let's try to find a way to predict the missing ages. "
   ]
  },
  {
   "cell_type": "code",
   "execution_count": 14,
   "metadata": {
    "_cell_guid": "2962e4b6-1744-449a-86c1-239123a0016e",
    "_uuid": "b25763097363fa98fc10fcb4a377d8d2c519b238",
    "execution": {
     "iopub.execute_input": "2020-12-15T12:00:10.491109Z",
     "iopub.status.busy": "2020-12-15T12:00:10.490213Z",
     "iopub.status.idle": "2020-12-15T12:00:10.494740Z",
     "shell.execute_reply": "2020-12-15T12:00:10.495233Z"
    },
    "papermill": {
     "duration": 0.060056,
     "end_time": "2020-12-15T12:00:10.495415",
     "exception": false,
     "start_time": "2020-12-15T12:00:10.435359",
     "status": "completed"
    },
    "tags": []
   },
   "outputs": [
    {
     "data": {
      "text/plain": [
       "Mr          757\n",
       "Miss        260\n",
       "Mrs         197\n",
       "Master       61\n",
       "Dr            8\n",
       "Rev           8\n",
       "Col           4\n",
       "Major         2\n",
       "Mlle          2\n",
       "Ms            2\n",
       "Don           1\n",
       "Countess      1\n",
       "Sir           1\n",
       "Mme           1\n",
       "Capt          1\n",
       "Jonkheer      1\n",
       "Lady          1\n",
       "Dona          1\n",
       "Name: Title, dtype: int64"
      ]
     },
     "execution_count": 14,
     "metadata": {},
     "output_type": "execute_result"
    }
   ],
   "source": [
    "#extract a title for each Name \n",
    "all_data['Title'] = all_data.Name.str.extract(' ([A-Za-z]+)\\.', expand=False)\n",
    "\n",
    "all_data['Title'].value_counts()"
   ]
  },
  {
   "cell_type": "code",
   "execution_count": 15,
   "metadata": {
    "execution": {
     "iopub.execute_input": "2020-12-15T12:00:10.587553Z",
     "iopub.status.busy": "2020-12-15T12:00:10.586596Z",
     "iopub.status.idle": "2020-12-15T12:00:10.591016Z",
     "shell.execute_reply": "2020-12-15T12:00:10.590472Z"
    },
    "papermill": {
     "duration": 0.054313,
     "end_time": "2020-12-15T12:00:10.591146",
     "exception": false,
     "start_time": "2020-12-15T12:00:10.536833",
     "status": "completed"
    },
    "tags": []
   },
   "outputs": [
    {
     "data": {
      "text/plain": [
       "['Mr', 'Miss', 'Mrs', 'Master', 'Dr']"
      ]
     },
     "execution_count": 15,
     "metadata": {},
     "output_type": "execute_result"
    }
   ],
   "source": [
    "frequent_titles = all_data['Title'].value_counts()[:5].index.tolist()\n",
    "frequent_titles"
   ]
  },
  {
   "cell_type": "code",
   "execution_count": 16,
   "metadata": {
    "execution": {
     "iopub.execute_input": "2020-12-15T12:00:10.685832Z",
     "iopub.status.busy": "2020-12-15T12:00:10.684953Z",
     "iopub.status.idle": "2020-12-15T12:00:10.688614Z",
     "shell.execute_reply": "2020-12-15T12:00:10.687925Z"
    },
    "papermill": {
     "duration": 0.054932,
     "end_time": "2020-12-15T12:00:10.688748",
     "exception": false,
     "start_time": "2020-12-15T12:00:10.633816",
     "status": "completed"
    },
    "tags": []
   },
   "outputs": [],
   "source": [
    "# keep only the most frequent titles\n",
    "all_data['Title'] = all_data['Title'].apply(lambda x: x if x in frequent_titles else 'Other')\n",
    "# all_data.head()"
   ]
  },
  {
   "cell_type": "code",
   "execution_count": 17,
   "metadata": {
    "execution": {
     "iopub.execute_input": "2020-12-15T12:00:10.908398Z",
     "iopub.status.busy": "2020-12-15T12:00:10.907227Z",
     "iopub.status.idle": "2020-12-15T12:00:10.919393Z",
     "shell.execute_reply": "2020-12-15T12:00:10.918630Z"
    },
    "papermill": {
     "duration": 0.187555,
     "end_time": "2020-12-15T12:00:10.919532",
     "exception": false,
     "start_time": "2020-12-15T12:00:10.731977",
     "status": "completed"
    },
    "tags": []
   },
   "outputs": [],
   "source": [
    "# fill missing age with median age group for each title\n",
    "median_ages = {}\n",
    "# calculate median age for different titles\n",
    "for title in frequent_titles:\n",
    "    median_ages[title] = all_data.loc[all_data['Title'] == title]['Age'].median()\n",
    "median_ages['Other'] =  all_data['Age'].median()\n",
    "all_data.loc[all_data['Age'].isnull(), 'Age'] = all_data[all_data['Age'].isnull()]['Title'].map(median_ages)"
   ]
  },
  {
   "cell_type": "code",
   "execution_count": 18,
   "metadata": {
    "execution": {
     "iopub.execute_input": "2020-12-15T12:00:11.026229Z",
     "iopub.status.busy": "2020-12-15T12:00:11.025380Z",
     "iopub.status.idle": "2020-12-15T12:00:11.030110Z",
     "shell.execute_reply": "2020-12-15T12:00:11.029614Z"
    },
    "papermill": {
     "duration": 0.067032,
     "end_time": "2020-12-15T12:00:11.030258",
     "exception": false,
     "start_time": "2020-12-15T12:00:10.963226",
     "status": "completed"
    },
    "tags": []
   },
   "outputs": [
    {
     "data": {
      "text/html": [
       "<div>\n",
       "<style scoped>\n",
       "    .dataframe tbody tr th:only-of-type {\n",
       "        vertical-align: middle;\n",
       "    }\n",
       "\n",
       "    .dataframe tbody tr th {\n",
       "        vertical-align: top;\n",
       "    }\n",
       "\n",
       "    .dataframe thead th {\n",
       "        text-align: right;\n",
       "    }\n",
       "</style>\n",
       "<table border=\"1\" class=\"dataframe\">\n",
       "  <thead>\n",
       "    <tr style=\"text-align: right;\">\n",
       "      <th></th>\n",
       "      <th>PassengerId</th>\n",
       "      <th>Survived</th>\n",
       "      <th>Pclass</th>\n",
       "      <th>Name</th>\n",
       "      <th>Sex</th>\n",
       "      <th>Age</th>\n",
       "      <th>SibSp</th>\n",
       "      <th>Parch</th>\n",
       "      <th>Ticket</th>\n",
       "      <th>Fare</th>\n",
       "      <th>Cabin</th>\n",
       "      <th>Embarked</th>\n",
       "      <th>AgeGroup</th>\n",
       "      <th>CabinBool</th>\n",
       "      <th>Title</th>\n",
       "    </tr>\n",
       "  </thead>\n",
       "  <tbody>\n",
       "    <tr>\n",
       "      <th>0</th>\n",
       "      <td>1</td>\n",
       "      <td>0.0</td>\n",
       "      <td>3</td>\n",
       "      <td>Braund, Mr. Owen Harris</td>\n",
       "      <td>male</td>\n",
       "      <td>22.0</td>\n",
       "      <td>1</td>\n",
       "      <td>0</td>\n",
       "      <td>A/5 21171</td>\n",
       "      <td>7.2500</td>\n",
       "      <td>NaN</td>\n",
       "      <td>S</td>\n",
       "      <td>adult</td>\n",
       "      <td>0</td>\n",
       "      <td>Mr</td>\n",
       "    </tr>\n",
       "    <tr>\n",
       "      <th>1</th>\n",
       "      <td>2</td>\n",
       "      <td>1.0</td>\n",
       "      <td>1</td>\n",
       "      <td>Cumings, Mrs. John Bradley (Florence Briggs Th...</td>\n",
       "      <td>female</td>\n",
       "      <td>38.0</td>\n",
       "      <td>1</td>\n",
       "      <td>0</td>\n",
       "      <td>PC 17599</td>\n",
       "      <td>71.2833</td>\n",
       "      <td>C85</td>\n",
       "      <td>C</td>\n",
       "      <td>adult</td>\n",
       "      <td>1</td>\n",
       "      <td>Mrs</td>\n",
       "    </tr>\n",
       "    <tr>\n",
       "      <th>2</th>\n",
       "      <td>3</td>\n",
       "      <td>1.0</td>\n",
       "      <td>3</td>\n",
       "      <td>Heikkinen, Miss. Laina</td>\n",
       "      <td>female</td>\n",
       "      <td>26.0</td>\n",
       "      <td>0</td>\n",
       "      <td>0</td>\n",
       "      <td>STON/O2. 3101282</td>\n",
       "      <td>7.9250</td>\n",
       "      <td>NaN</td>\n",
       "      <td>S</td>\n",
       "      <td>adult</td>\n",
       "      <td>0</td>\n",
       "      <td>Miss</td>\n",
       "    </tr>\n",
       "    <tr>\n",
       "      <th>3</th>\n",
       "      <td>4</td>\n",
       "      <td>1.0</td>\n",
       "      <td>1</td>\n",
       "      <td>Futrelle, Mrs. Jacques Heath (Lily May Peel)</td>\n",
       "      <td>female</td>\n",
       "      <td>35.0</td>\n",
       "      <td>1</td>\n",
       "      <td>0</td>\n",
       "      <td>113803</td>\n",
       "      <td>53.1000</td>\n",
       "      <td>C123</td>\n",
       "      <td>S</td>\n",
       "      <td>adult</td>\n",
       "      <td>1</td>\n",
       "      <td>Mrs</td>\n",
       "    </tr>\n",
       "    <tr>\n",
       "      <th>4</th>\n",
       "      <td>5</td>\n",
       "      <td>0.0</td>\n",
       "      <td>3</td>\n",
       "      <td>Allen, Mr. William Henry</td>\n",
       "      <td>male</td>\n",
       "      <td>35.0</td>\n",
       "      <td>0</td>\n",
       "      <td>0</td>\n",
       "      <td>373450</td>\n",
       "      <td>8.0500</td>\n",
       "      <td>NaN</td>\n",
       "      <td>S</td>\n",
       "      <td>adult</td>\n",
       "      <td>0</td>\n",
       "      <td>Mr</td>\n",
       "    </tr>\n",
       "  </tbody>\n",
       "</table>\n",
       "</div>"
      ],
      "text/plain": [
       "   PassengerId  Survived  Pclass  \\\n",
       "0            1       0.0       3   \n",
       "1            2       1.0       1   \n",
       "2            3       1.0       3   \n",
       "3            4       1.0       1   \n",
       "4            5       0.0       3   \n",
       "\n",
       "                                                Name     Sex   Age  SibSp  \\\n",
       "0                            Braund, Mr. Owen Harris    male  22.0      1   \n",
       "1  Cumings, Mrs. John Bradley (Florence Briggs Th...  female  38.0      1   \n",
       "2                             Heikkinen, Miss. Laina  female  26.0      0   \n",
       "3       Futrelle, Mrs. Jacques Heath (Lily May Peel)  female  35.0      1   \n",
       "4                           Allen, Mr. William Henry    male  35.0      0   \n",
       "\n",
       "   Parch            Ticket     Fare Cabin Embarked AgeGroup  CabinBool Title  \n",
       "0      0         A/5 21171   7.2500   NaN        S    adult          0    Mr  \n",
       "1      0          PC 17599  71.2833   C85        C    adult          1   Mrs  \n",
       "2      0  STON/O2. 3101282   7.9250   NaN        S    adult          0  Miss  \n",
       "3      0            113803  53.1000  C123        S    adult          1   Mrs  \n",
       "4      0            373450   8.0500   NaN        S    adult          0    Mr  "
      ]
     },
     "execution_count": 18,
     "metadata": {},
     "output_type": "execute_result"
    }
   ],
   "source": [
    "all_data.head()"
   ]
  },
  {
   "cell_type": "markdown",
   "metadata": {
    "papermill": {
     "duration": 0.043176,
     "end_time": "2020-12-15T12:00:11.116395",
     "exception": false,
     "start_time": "2020-12-15T12:00:11.073219",
     "status": "completed"
    },
    "tags": []
   },
   "source": [
    "### Encoding categorical features with non-numerical values\n",
    "Use LabelEncoder for categorical features"
   ]
  },
  {
   "cell_type": "code",
   "execution_count": 19,
   "metadata": {
    "execution": {
     "iopub.execute_input": "2020-12-15T12:00:11.210227Z",
     "iopub.status.busy": "2020-12-15T12:00:11.209548Z",
     "iopub.status.idle": "2020-12-15T12:00:11.284680Z",
     "shell.execute_reply": "2020-12-15T12:00:11.283909Z"
    },
    "papermill": {
     "duration": 0.12417,
     "end_time": "2020-12-15T12:00:11.284818",
     "exception": false,
     "start_time": "2020-12-15T12:00:11.160648",
     "status": "completed"
    },
    "tags": []
   },
   "outputs": [],
   "source": [
    "from sklearn.preprocessing import LabelEncoder\n",
    "\n",
    "Cat_Features = ['Sex', 'Embarked', 'Title']\n",
    "for feature in Cat_Features:\n",
    "    label = LabelEncoder()\n",
    "    all_data[feature] = label.fit_transform(all_data[feature])"
   ]
  },
  {
   "cell_type": "markdown",
   "metadata": {
    "papermill": {
     "duration": 0.043686,
     "end_time": "2020-12-15T12:00:11.371407",
     "exception": false,
     "start_time": "2020-12-15T12:00:11.327721",
     "status": "completed"
    },
    "tags": []
   },
   "source": [
    "### Creating frequency bins for continuous variables and encoding\n",
    "Use qcut and LabelEncoder for continuous variable bins"
   ]
  },
  {
   "cell_type": "code",
   "execution_count": 20,
   "metadata": {
    "execution": {
     "iopub.execute_input": "2020-12-15T12:00:11.471615Z",
     "iopub.status.busy": "2020-12-15T12:00:11.470599Z",
     "iopub.status.idle": "2020-12-15T12:00:11.490352Z",
     "shell.execute_reply": "2020-12-15T12:00:11.489641Z"
    },
    "papermill": {
     "duration": 0.076304,
     "end_time": "2020-12-15T12:00:11.490498",
     "exception": false,
     "start_time": "2020-12-15T12:00:11.414194",
     "status": "completed"
    },
    "tags": []
   },
   "outputs": [],
   "source": [
    "Cont_Features = ['Age', 'Fare']\n",
    "num_bins = 5\n",
    "for feature in Cont_Features:\n",
    "    bin_feature = feature + 'Bin'\n",
    "    all_data[bin_feature] = pd.qcut(all_data[feature], num_bins)\n",
    "    label = LabelEncoder()\n",
    "    all_data[bin_feature] = label.fit_transform(all_data[bin_feature])"
   ]
  },
  {
   "cell_type": "code",
   "execution_count": 21,
   "metadata": {
    "execution": {
     "iopub.execute_input": "2020-12-15T12:00:11.596150Z",
     "iopub.status.busy": "2020-12-15T12:00:11.588027Z",
     "iopub.status.idle": "2020-12-15T12:00:11.601115Z",
     "shell.execute_reply": "2020-12-15T12:00:11.600473Z"
    },
    "papermill": {
     "duration": 0.06758,
     "end_time": "2020-12-15T12:00:11.601258",
     "exception": false,
     "start_time": "2020-12-15T12:00:11.533678",
     "status": "completed"
    },
    "tags": []
   },
   "outputs": [
    {
     "data": {
      "text/html": [
       "<div>\n",
       "<style scoped>\n",
       "    .dataframe tbody tr th:only-of-type {\n",
       "        vertical-align: middle;\n",
       "    }\n",
       "\n",
       "    .dataframe tbody tr th {\n",
       "        vertical-align: top;\n",
       "    }\n",
       "\n",
       "    .dataframe thead th {\n",
       "        text-align: right;\n",
       "    }\n",
       "</style>\n",
       "<table border=\"1\" class=\"dataframe\">\n",
       "  <thead>\n",
       "    <tr style=\"text-align: right;\">\n",
       "      <th></th>\n",
       "      <th>PassengerId</th>\n",
       "      <th>Survived</th>\n",
       "      <th>Pclass</th>\n",
       "      <th>Name</th>\n",
       "      <th>Sex</th>\n",
       "      <th>Age</th>\n",
       "      <th>SibSp</th>\n",
       "      <th>Parch</th>\n",
       "      <th>Ticket</th>\n",
       "      <th>Fare</th>\n",
       "      <th>Cabin</th>\n",
       "      <th>Embarked</th>\n",
       "      <th>AgeGroup</th>\n",
       "      <th>CabinBool</th>\n",
       "      <th>Title</th>\n",
       "      <th>AgeBin</th>\n",
       "      <th>FareBin</th>\n",
       "    </tr>\n",
       "  </thead>\n",
       "  <tbody>\n",
       "    <tr>\n",
       "      <th>0</th>\n",
       "      <td>1</td>\n",
       "      <td>0.0</td>\n",
       "      <td>3</td>\n",
       "      <td>Braund, Mr. Owen Harris</td>\n",
       "      <td>1</td>\n",
       "      <td>22.0</td>\n",
       "      <td>1</td>\n",
       "      <td>0</td>\n",
       "      <td>A/5 21171</td>\n",
       "      <td>7.2500</td>\n",
       "      <td>NaN</td>\n",
       "      <td>2</td>\n",
       "      <td>adult</td>\n",
       "      <td>0</td>\n",
       "      <td>3</td>\n",
       "      <td>1</td>\n",
       "      <td>0</td>\n",
       "    </tr>\n",
       "    <tr>\n",
       "      <th>1</th>\n",
       "      <td>2</td>\n",
       "      <td>1.0</td>\n",
       "      <td>1</td>\n",
       "      <td>Cumings, Mrs. John Bradley (Florence Briggs Th...</td>\n",
       "      <td>0</td>\n",
       "      <td>38.0</td>\n",
       "      <td>1</td>\n",
       "      <td>0</td>\n",
       "      <td>PC 17599</td>\n",
       "      <td>71.2833</td>\n",
       "      <td>C85</td>\n",
       "      <td>0</td>\n",
       "      <td>adult</td>\n",
       "      <td>1</td>\n",
       "      <td>4</td>\n",
       "      <td>3</td>\n",
       "      <td>4</td>\n",
       "    </tr>\n",
       "    <tr>\n",
       "      <th>2</th>\n",
       "      <td>3</td>\n",
       "      <td>1.0</td>\n",
       "      <td>3</td>\n",
       "      <td>Heikkinen, Miss. Laina</td>\n",
       "      <td>0</td>\n",
       "      <td>26.0</td>\n",
       "      <td>0</td>\n",
       "      <td>0</td>\n",
       "      <td>STON/O2. 3101282</td>\n",
       "      <td>7.9250</td>\n",
       "      <td>NaN</td>\n",
       "      <td>2</td>\n",
       "      <td>adult</td>\n",
       "      <td>0</td>\n",
       "      <td>2</td>\n",
       "      <td>1</td>\n",
       "      <td>1</td>\n",
       "    </tr>\n",
       "    <tr>\n",
       "      <th>3</th>\n",
       "      <td>4</td>\n",
       "      <td>1.0</td>\n",
       "      <td>1</td>\n",
       "      <td>Futrelle, Mrs. Jacques Heath (Lily May Peel)</td>\n",
       "      <td>0</td>\n",
       "      <td>35.0</td>\n",
       "      <td>1</td>\n",
       "      <td>0</td>\n",
       "      <td>113803</td>\n",
       "      <td>53.1000</td>\n",
       "      <td>C123</td>\n",
       "      <td>2</td>\n",
       "      <td>adult</td>\n",
       "      <td>1</td>\n",
       "      <td>4</td>\n",
       "      <td>3</td>\n",
       "      <td>4</td>\n",
       "    </tr>\n",
       "    <tr>\n",
       "      <th>4</th>\n",
       "      <td>5</td>\n",
       "      <td>0.0</td>\n",
       "      <td>3</td>\n",
       "      <td>Allen, Mr. William Henry</td>\n",
       "      <td>1</td>\n",
       "      <td>35.0</td>\n",
       "      <td>0</td>\n",
       "      <td>0</td>\n",
       "      <td>373450</td>\n",
       "      <td>8.0500</td>\n",
       "      <td>NaN</td>\n",
       "      <td>2</td>\n",
       "      <td>adult</td>\n",
       "      <td>0</td>\n",
       "      <td>3</td>\n",
       "      <td>3</td>\n",
       "      <td>1</td>\n",
       "    </tr>\n",
       "  </tbody>\n",
       "</table>\n",
       "</div>"
      ],
      "text/plain": [
       "   PassengerId  Survived  Pclass  \\\n",
       "0            1       0.0       3   \n",
       "1            2       1.0       1   \n",
       "2            3       1.0       3   \n",
       "3            4       1.0       1   \n",
       "4            5       0.0       3   \n",
       "\n",
       "                                                Name  Sex   Age  SibSp  Parch  \\\n",
       "0                            Braund, Mr. Owen Harris    1  22.0      1      0   \n",
       "1  Cumings, Mrs. John Bradley (Florence Briggs Th...    0  38.0      1      0   \n",
       "2                             Heikkinen, Miss. Laina    0  26.0      0      0   \n",
       "3       Futrelle, Mrs. Jacques Heath (Lily May Peel)    0  35.0      1      0   \n",
       "4                           Allen, Mr. William Henry    1  35.0      0      0   \n",
       "\n",
       "             Ticket     Fare Cabin  Embarked AgeGroup  CabinBool  Title  \\\n",
       "0         A/5 21171   7.2500   NaN         2    adult          0      3   \n",
       "1          PC 17599  71.2833   C85         0    adult          1      4   \n",
       "2  STON/O2. 3101282   7.9250   NaN         2    adult          0      2   \n",
       "3            113803  53.1000  C123         2    adult          1      4   \n",
       "4            373450   8.0500   NaN         2    adult          0      3   \n",
       "\n",
       "   AgeBin  FareBin  \n",
       "0       1        0  \n",
       "1       3        4  \n",
       "2       1        1  \n",
       "3       3        4  \n",
       "4       3        1  "
      ]
     },
     "execution_count": 21,
     "metadata": {},
     "output_type": "execute_result"
    }
   ],
   "source": [
    "all_data.head()"
   ]
  },
  {
   "cell_type": "markdown",
   "metadata": {
    "papermill": {
     "duration": 0.043241,
     "end_time": "2020-12-15T12:00:11.688000",
     "exception": false,
     "start_time": "2020-12-15T12:00:11.644759",
     "status": "completed"
    },
    "tags": []
   },
   "source": [
    "<a id=\"ch5\"></a>\n",
    "## 5. Feature Creation\n",
    "\n",
    "We are going create one additional feature, which can imrove the model. As it was observed in many other notebooks the members of families with children have higer probability to survive."
   ]
  },
  {
   "cell_type": "markdown",
   "metadata": {
    "papermill": {
     "duration": 0.043099,
     "end_time": "2020-12-15T12:00:11.774904",
     "exception": false,
     "start_time": "2020-12-15T12:00:11.731805",
     "status": "completed"
    },
    "tags": []
   },
   "source": [
    "First, we are going to identify families. \n",
    "\n",
    "It appears that passengers with same surnames have the same Ticket names.\n",
    "Let’s extract the surnames and tickets name and find out duplicate ones. There may be passengers from the same families."
   ]
  },
  {
   "cell_type": "code",
   "execution_count": 22,
   "metadata": {
    "execution": {
     "iopub.execute_input": "2020-12-15T12:00:11.879936Z",
     "iopub.status.busy": "2020-12-15T12:00:11.872546Z",
     "iopub.status.idle": "2020-12-15T12:00:11.884022Z",
     "shell.execute_reply": "2020-12-15T12:00:11.883268Z"
    },
    "papermill": {
     "duration": 0.064706,
     "end_time": "2020-12-15T12:00:11.884157",
     "exception": false,
     "start_time": "2020-12-15T12:00:11.819451",
     "status": "completed"
    },
    "tags": []
   },
   "outputs": [],
   "source": [
    "all_data['Surname'] = all_data.Name.str.extract(r'([A-Za-z]+),', expand=False)\n",
    "all_data['TicketPrefix'] = all_data.Ticket.str.extract(r'(.*\\d)', expand=False)\n",
    "all_data['Surname_Ticket'] = all_data['Surname'] + all_data['TicketPrefix']\n",
    "all_data['IsFamily'] = all_data.Surname_Ticket.duplicated(keep=False).astype(int)"
   ]
  },
  {
   "cell_type": "markdown",
   "metadata": {
    "papermill": {
     "duration": 0.043915,
     "end_time": "2020-12-15T12:00:11.972397",
     "exception": false,
     "start_time": "2020-12-15T12:00:11.928482",
     "status": "completed"
    },
    "tags": []
   },
   "source": [
    "Next, we find the families with children."
   ]
  },
  {
   "cell_type": "code",
   "execution_count": 23,
   "metadata": {
    "execution": {
     "iopub.execute_input": "2020-12-15T12:00:12.072000Z",
     "iopub.status.busy": "2020-12-15T12:00:12.071211Z",
     "iopub.status.idle": "2020-12-15T12:00:12.079105Z",
     "shell.execute_reply": "2020-12-15T12:00:12.078418Z"
    },
    "papermill": {
     "duration": 0.062465,
     "end_time": "2020-12-15T12:00:12.079280",
     "exception": false,
     "start_time": "2020-12-15T12:00:12.016815",
     "status": "completed"
    },
    "tags": []
   },
   "outputs": [
    {
     "data": {
      "text/plain": [
       "66"
      ]
     },
     "execution_count": 23,
     "metadata": {},
     "output_type": "execute_result"
    }
   ],
   "source": [
    "all_data['Child'] = all_data.Age.map(lambda x: 1 if x <=16 else 0)\n",
    "FamilyWithChild = all_data[(all_data.IsFamily==1)&(all_data.Child==1)]['Surname_Ticket'].unique()\n",
    "len(FamilyWithChild)"
   ]
  },
  {
   "cell_type": "markdown",
   "metadata": {
    "papermill": {
     "duration": 0.044264,
     "end_time": "2020-12-15T12:00:12.168828",
     "exception": false,
     "start_time": "2020-12-15T12:00:12.124564",
     "status": "completed"
    },
    "tags": []
   },
   "source": [
    "There are 66 families which have 1 or more children.\n",
    "\n",
    "Encode each family with children and assign 0 for others."
   ]
  },
  {
   "cell_type": "code",
   "execution_count": 24,
   "metadata": {
    "execution": {
     "iopub.execute_input": "2020-12-15T12:00:12.340156Z",
     "iopub.status.busy": "2020-12-15T12:00:12.266181Z",
     "iopub.status.idle": "2020-12-15T12:00:12.343565Z",
     "shell.execute_reply": "2020-12-15T12:00:12.342879Z"
    },
    "papermill": {
     "duration": 0.129729,
     "end_time": "2020-12-15T12:00:12.343698",
     "exception": false,
     "start_time": "2020-12-15T12:00:12.213969",
     "status": "completed"
    },
    "tags": []
   },
   "outputs": [],
   "source": [
    "all_data['FamilyId'] = 0\n",
    "for ind, identifier in enumerate(FamilyWithChild):\n",
    " all_data.loc[all_data.Surname_Ticket==identifier, ['FamilyId']] = ind + 1"
   ]
  },
  {
   "cell_type": "markdown",
   "metadata": {
    "papermill": {
     "duration": 0.044176,
     "end_time": "2020-12-15T12:00:12.432584",
     "exception": false,
     "start_time": "2020-12-15T12:00:12.388408",
     "status": "completed"
    },
    "tags": []
   },
   "source": [
    "For each family of above, if there is at least one survived, we assume the others can survive too."
   ]
  },
  {
   "cell_type": "code",
   "execution_count": 25,
   "metadata": {
    "execution": {
     "iopub.execute_input": "2020-12-15T12:00:12.538527Z",
     "iopub.status.busy": "2020-12-15T12:00:12.537703Z",
     "iopub.status.idle": "2020-12-15T12:00:12.795889Z",
     "shell.execute_reply": "2020-12-15T12:00:12.796433Z"
    },
    "papermill": {
     "duration": 0.316776,
     "end_time": "2020-12-15T12:00:12.796601",
     "exception": false,
     "start_time": "2020-12-15T12:00:12.479825",
     "status": "completed"
    },
    "tags": []
   },
   "outputs": [
    {
     "data": {
      "image/png": "[encoded data removed]",
      "text/plain": [
       "<Figure size 432x288 with 1 Axes>"
      ]
     },
     "metadata": {
      "needs_background": "light"
     },
     "output_type": "display_data"
    }
   ],
   "source": [
    "all_data['FamilySurvival'] = 1 \n",
    "Survived_by_FamilyId = all_data.groupby('FamilyId').Survived.sum()\n",
    "for i in range(1, len(FamilyWithChild)+1):\n",
    "   if Survived_by_FamilyId[i] >= 1:\n",
    "      all_data.loc[all_data.FamilyId==i, ['FamilySurvival']] = 2\n",
    "   elif Survived_by_FamilyId[i] == 0:\n",
    "      all_data.loc[all_data.FamilyId==i, ['FamilySurvival']] = 0\n",
    "sns.barplot(x='FamilySurvival', y='Survived', data=all_data)\n",
    "plt.show()"
   ]
  },
  {
   "cell_type": "markdown",
   "metadata": {
    "papermill": {
     "duration": 0.044799,
     "end_time": "2020-12-15T12:00:12.886775",
     "exception": false,
     "start_time": "2020-12-15T12:00:12.841976",
     "status": "completed"
    },
    "tags": []
   },
   "source": [
    "Indeed, we can see that chances to survive are higher for passagiers in families."
   ]
  },
  {
   "cell_type": "markdown",
   "metadata": {
    "papermill": {
     "duration": 0.045819,
     "end_time": "2020-12-15T12:00:12.977516",
     "exception": false,
     "start_time": "2020-12-15T12:00:12.931697",
     "status": "completed"
    },
    "tags": []
   },
   "source": [
    "### Splitting back Train and Test data"
   ]
  },
  {
   "cell_type": "code",
   "execution_count": 26,
   "metadata": {
    "execution": {
     "iopub.execute_input": "2020-12-15T12:00:13.075971Z",
     "iopub.status.busy": "2020-12-15T12:00:13.075068Z",
     "iopub.status.idle": "2020-12-15T12:00:13.079347Z",
     "shell.execute_reply": "2020-12-15T12:00:13.078719Z"
    },
    "papermill": {
     "duration": 0.056554,
     "end_time": "2020-12-15T12:00:13.079481",
     "exception": false,
     "start_time": "2020-12-15T12:00:13.022927",
     "status": "completed"
    },
    "tags": []
   },
   "outputs": [
    {
     "data": {
      "text/plain": [
       "(891, 24)"
      ]
     },
     "execution_count": 26,
     "metadata": {},
     "output_type": "execute_result"
    }
   ],
   "source": [
    "train = all_data[: len(train)]\n",
    "test = all_data[len(train):]\n",
    "train.shape"
   ]
  },
  {
   "cell_type": "markdown",
   "metadata": {
    "papermill": {
     "duration": 0.044943,
     "end_time": "2020-12-15T12:00:13.170087",
     "exception": false,
     "start_time": "2020-12-15T12:00:13.125144",
     "status": "completed"
    },
    "tags": []
   },
   "source": [
    "### Features to keep in train data \n",
    "We can drop now some original features that we don't need or that we have used already to create new features. "
   ]
  },
  {
   "cell_type": "code",
   "execution_count": 27,
   "metadata": {
    "execution": {
     "iopub.execute_input": "2020-12-15T12:00:13.268851Z",
     "iopub.status.busy": "2020-12-15T12:00:13.267892Z",
     "iopub.status.idle": "2020-12-15T12:00:13.272815Z",
     "shell.execute_reply": "2020-12-15T12:00:13.272115Z"
    },
    "papermill": {
     "duration": 0.057056,
     "end_time": "2020-12-15T12:00:13.272952",
     "exception": false,
     "start_time": "2020-12-15T12:00:13.215896",
     "status": "completed"
    },
    "tags": []
   },
   "outputs": [
    {
     "data": {
      "text/plain": [
       "Index(['PassengerId', 'Survived', 'Pclass', 'Name', 'Sex', 'Age', 'SibSp',\n",
       "       'Parch', 'Ticket', 'Fare', 'Cabin', 'Embarked', 'AgeGroup', 'CabinBool',\n",
       "       'Title', 'AgeBin', 'FareBin', 'Surname', 'TicketPrefix',\n",
       "       'Surname_Ticket', 'IsFamily', 'Child', 'FamilyId', 'FamilySurvival'],\n",
       "      dtype='object')"
      ]
     },
     "execution_count": 27,
     "metadata": {},
     "output_type": "execute_result"
    }
   ],
   "source": [
    "train.columns"
   ]
  },
  {
   "cell_type": "code",
   "execution_count": 28,
   "metadata": {
    "execution": {
     "iopub.execute_input": "2020-12-15T12:00:13.376827Z",
     "iopub.status.busy": "2020-12-15T12:00:13.375773Z",
     "iopub.status.idle": "2020-12-15T12:00:13.378947Z",
     "shell.execute_reply": "2020-12-15T12:00:13.378364Z"
    },
    "papermill": {
     "duration": 0.058962,
     "end_time": "2020-12-15T12:00:13.379084",
     "exception": false,
     "start_time": "2020-12-15T12:00:13.320122",
     "status": "completed"
    },
    "tags": []
   },
   "outputs": [],
   "source": [
    "# keep only some columns\n",
    "X_train = train[['Pclass', 'Sex', 'Parch', 'Embarked', 'CabinBool', 'Title', 'AgeBin', 'FareBin', 'FamilySurvival']]\n",
    "y_train = train['Survived']"
   ]
  },
  {
   "cell_type": "markdown",
   "metadata": {
    "_cell_guid": "b342b59d-501b-4711-8620-206ff34659ab",
    "_uuid": "21c87e41c2d99d5b4e2adee35247a95f23937447",
    "papermill": {
     "duration": 0.050894,
     "end_time": "2020-12-15T12:00:13.478392",
     "exception": false,
     "start_time": "2020-12-15T12:00:13.427498",
     "status": "completed"
    },
    "tags": []
   },
   "source": [
    "<a id=ch6></a>\n",
    "## 6. Model and Feature Selection"
   ]
  },
  {
   "cell_type": "code",
   "execution_count": 29,
   "metadata": {
    "execution": {
     "iopub.execute_input": "2020-12-15T12:00:13.578871Z",
     "iopub.status.busy": "2020-12-15T12:00:13.577965Z",
     "iopub.status.idle": "2020-12-15T12:00:13.768810Z",
     "shell.execute_reply": "2020-12-15T12:00:13.767984Z"
    },
    "papermill": {
     "duration": 0.243426,
     "end_time": "2020-12-15T12:00:13.768948",
     "exception": false,
     "start_time": "2020-12-15T12:00:13.525522",
     "status": "completed"
    },
    "tags": []
   },
   "outputs": [],
   "source": [
    "# we start with this very powerful classifier \n",
    "from catboost import CatBoostClassifier\n",
    "\n",
    "model = CatBoostClassifier(verbose=False)"
   ]
  },
  {
   "cell_type": "markdown",
   "metadata": {
    "papermill": {
     "duration": 0.046892,
     "end_time": "2020-12-15T12:00:13.864611",
     "exception": false,
     "start_time": "2020-12-15T12:00:13.817719",
     "status": "completed"
    },
    "tags": []
   },
   "source": [
    "Identifying the most important features"
   ]
  },
  {
   "cell_type": "code",
   "execution_count": 30,
   "metadata": {
    "execution": {
     "iopub.execute_input": "2020-12-15T12:00:13.978824Z",
     "iopub.status.busy": "2020-12-15T12:00:13.977945Z",
     "iopub.status.idle": "2020-12-15T12:00:15.232219Z",
     "shell.execute_reply": "2020-12-15T12:00:15.231533Z"
    },
    "papermill": {
     "duration": 1.320256,
     "end_time": "2020-12-15T12:00:15.232373",
     "exception": false,
     "start_time": "2020-12-15T12:00:13.912117",
     "status": "completed"
    },
    "tags": []
   },
   "outputs": [
    {
     "data": {
      "image/png": "[encoded data removed]",
      "text/plain": [
       "<Figure size 432x288 with 1 Axes>"
      ]
     },
     "metadata": {
      "needs_background": "light"
     },
     "output_type": "display_data"
    }
   ],
   "source": [
    "model.fit(X_train,y_train)\n",
    "importance = pd.DataFrame({'feature':X_train.columns, 'importance': model.feature_importances_})\n",
    "importance.sort_values('importance', ascending=False).set_index('feature').plot(kind='barh')\n",
    "plt.show()"
   ]
  },
  {
   "cell_type": "code",
   "execution_count": 31,
   "metadata": {
    "execution": {
     "iopub.execute_input": "2020-12-15T12:00:15.334645Z",
     "iopub.status.busy": "2020-12-15T12:00:15.333552Z",
     "iopub.status.idle": "2020-12-15T12:00:15.338677Z",
     "shell.execute_reply": "2020-12-15T12:00:15.338003Z"
    },
    "papermill": {
     "duration": 0.058899,
     "end_time": "2020-12-15T12:00:15.338805",
     "exception": false,
     "start_time": "2020-12-15T12:00:15.279906",
     "status": "completed"
    },
    "tags": []
   },
   "outputs": [
    {
     "data": {
      "text/plain": [
       "Index(['Pclass', 'Sex', 'Parch', 'Embarked', 'CabinBool', 'Title', 'AgeBin',\n",
       "       'FareBin', 'FamilySurvival'],\n",
       "      dtype='object')"
      ]
     },
     "execution_count": 31,
     "metadata": {},
     "output_type": "execute_result"
    }
   ],
   "source": [
    "X_train.columns"
   ]
  },
  {
   "cell_type": "markdown",
   "metadata": {
    "papermill": {
     "duration": 0.047698,
     "end_time": "2020-12-15T12:00:15.434154",
     "exception": false,
     "start_time": "2020-12-15T12:00:15.386456",
     "status": "completed"
    },
    "tags": []
   },
   "source": [
    "Choose the most important features based on their importance and the cross validation score "
   ]
  },
  {
   "cell_type": "code",
   "execution_count": 32,
   "metadata": {
    "execution": {
     "iopub.execute_input": "2020-12-15T12:00:15.539286Z",
     "iopub.status.busy": "2020-12-15T12:00:15.538189Z",
     "iopub.status.idle": "2020-12-15T12:00:15.540940Z",
     "shell.execute_reply": "2020-12-15T12:00:15.541451Z"
    },
    "papermill": {
     "duration": 0.059534,
     "end_time": "2020-12-15T12:00:15.541618",
     "exception": false,
     "start_time": "2020-12-15T12:00:15.482084",
     "status": "completed"
    },
    "tags": []
   },
   "outputs": [],
   "source": [
    "main_features = ['Sex', 'FamilySurvival', 'FareBin', 'Pclass', 'Title']\n",
    "\n",
    "\n",
    "X_test = test[main_features]\n",
    "X_train = train[main_features]"
   ]
  },
  {
   "cell_type": "code",
   "execution_count": 33,
   "metadata": {
    "execution": {
     "iopub.execute_input": "2020-12-15T12:00:15.642232Z",
     "iopub.status.busy": "2020-12-15T12:00:15.641568Z",
     "iopub.status.idle": "2020-12-15T12:00:19.482625Z",
     "shell.execute_reply": "2020-12-15T12:00:19.481632Z"
    },
    "papermill": {
     "duration": 3.893831,
     "end_time": "2020-12-15T12:00:19.482807",
     "exception": false,
     "start_time": "2020-12-15T12:00:15.588976",
     "status": "completed"
    },
    "tags": []
   },
   "outputs": [
    {
     "data": {
      "text/plain": [
       "0.8473353838428223"
      ]
     },
     "execution_count": 33,
     "metadata": {},
     "output_type": "execute_result"
    }
   ],
   "source": [
    "from sklearn.model_selection import cross_val_score\n",
    "\n",
    "cross_val_score(estimator=model, X=X_train, y=y_train, cv=5).mean()"
   ]
  },
  {
   "cell_type": "markdown",
   "metadata": {
    "papermill": {
     "duration": 0.048753,
     "end_time": "2020-12-15T12:00:19.581860",
     "exception": false,
     "start_time": "2020-12-15T12:00:19.533107",
     "status": "completed"
    },
    "tags": []
   },
   "source": [
    "### Voting Classifier"
   ]
  },
  {
   "cell_type": "markdown",
   "metadata": {
    "papermill": {
     "duration": 0.050176,
     "end_time": "2020-12-15T12:00:19.681459",
     "exception": false,
     "start_time": "2020-12-15T12:00:19.631283",
     "status": "completed"
    },
    "tags": []
   },
   "source": [
    "Create an ensemble of models showing the best performance in the previous notebook."
   ]
  },
  {
   "cell_type": "code",
   "execution_count": 34,
   "metadata": {
    "execution": {
     "iopub.execute_input": "2020-12-15T12:00:19.795357Z",
     "iopub.status.busy": "2020-12-15T12:00:19.794623Z",
     "iopub.status.idle": "2020-12-15T12:00:27.039177Z",
     "shell.execute_reply": "2020-12-15T12:00:27.039714Z"
    },
    "papermill": {
     "duration": 7.30564,
     "end_time": "2020-12-15T12:00:27.039909",
     "exception": false,
     "start_time": "2020-12-15T12:00:19.734269",
     "status": "completed"
    },
    "tags": []
   },
   "outputs": [
    {
     "name": "stdout",
     "output_type": "stream",
     "text": [
      "0.8462117883372041\n"
     ]
    }
   ],
   "source": [
    "from sklearn.model_selection import cross_val_score, cross_validate\n",
    "from sklearn.ensemble import VotingClassifier, RandomForestClassifier, AdaBoostClassifier, ExtraTreesClassifier\n",
    "from sklearn import svm, neighbors\n",
    "from xgboost import XGBClassifier\n",
    "\n",
    "ensemble = [CatBoostClassifier(verbose=False), RandomForestClassifier(), svm.NuSVC(probability=True), neighbors.KNeighborsClassifier()]\n",
    "\n",
    "classifiers_with_names = []\n",
    "_ = [classifiers_with_names.append((clf.__class__.__name__, clf)) for clf in ensemble]\n",
    "voting = VotingClassifier(classifiers_with_names, voting='hard')\n",
    "\n",
    "cv_results = cross_validate(voting, X_train, y_train, cv=5)\n",
    "print(cv_results['test_score'].mean())\n",
    "\n",
    "voting.fit(X_train, y_train)\n",
    "predictions = voting.predict(X_test)\n"
   ]
  },
  {
   "cell_type": "markdown",
   "metadata": {
    "_cell_guid": "edcb3381-4966-49b4-b691-b4d9aef3648b",
    "_uuid": "6e7a28331e10320ba474613f6976d8ad7fdbc90c",
    "papermill": {
     "duration": 0.048784,
     "end_time": "2020-12-15T12:00:27.137626",
     "exception": false,
     "start_time": "2020-12-15T12:00:27.088842",
     "status": "completed"
    },
    "tags": []
   },
   "source": [
    "<a id=ch7></a>\n",
    "## 7. Creating Submission File"
   ]
  },
  {
   "cell_type": "code",
   "execution_count": 35,
   "metadata": {
    "_cell_guid": "80ce3172-48b5-4271-ae67-0c647a0bbd4a",
    "_uuid": "1735274da7676c0c752592b0b619b6dc56ea914e",
    "execution": {
     "iopub.execute_input": "2020-12-15T12:00:27.245802Z",
     "iopub.status.busy": "2020-12-15T12:00:27.244749Z",
     "iopub.status.idle": "2020-12-15T12:00:27.661207Z",
     "shell.execute_reply": "2020-12-15T12:00:27.660544Z"
    },
    "papermill": {
     "duration": 0.473441,
     "end_time": "2020-12-15T12:00:27.661417",
     "exception": false,
     "start_time": "2020-12-15T12:00:27.187976",
     "status": "completed"
    },
    "tags": []
   },
   "outputs": [],
   "source": [
    "output = pd.DataFrame({'PassengerId': test.PassengerId, 'Survived': predictions.astype(int)})\n",
    "output.to_csv('submission_new_session.csv', index=False)"
   ]
  },
  {
   "cell_type": "markdown",
   "metadata": {
    "_cell_guid": "a6a2d601-fe68-497f-8b34-876c32eb3af6",
    "_uuid": "667f5ccd37ca5a4e2e99ff06982929fa927c5356",
    "papermill": {
     "duration": 0.049883,
     "end_time": "2020-12-15T12:00:27.761087",
     "exception": false,
     "start_time": "2020-12-15T12:00:27.711204",
     "status": "completed"
    },
    "tags": []
   },
   "source": []
  }
 ],
 "metadata": {
  "kernelspec": {
   "display_name": "Python 3 (ipykernel)",
   "language": "python",
   "name": "python3"
  },
  "language_info": {
   "codemirror_mode": {
    "name": "ipython",
    "version": 3
   },
   "file_extension": ".py",
   "mimetype": "text/x-python",
   "name": "python",
   "nbconvert_exporter": "python",
   "pygments_lexer": "ipython3",
   "version": "3.8.11"
  },
  "papermill": {
   "duration": 28.671799,
   "end_time": "2020-12-15T12:00:27.919435",
   "environment_variables": {},
   "exception": null,
   "input_path": "__notebook__.ipynb",
   "output_path": "__notebook__.ipynb",
   "parameters": {},
   "start_time": "2020-12-15T11:59:59.247636",
   "version": "2.1.0"
  },
  "toc": {
   "base_numbering": 1,
   "nav_menu": {},
   "number_sections": true,
   "sideBar": true,
   "skip_h1_title": false,
   "title_cell": "Table of Contents",
   "title_sidebar": "Contents",
   "toc_cell": false,
   "toc_position": {},
   "toc_section_display": true,
   "toc_window_display": false
  }
 },
 "nbformat": 4,
 "nbformat_minor": 4
}
